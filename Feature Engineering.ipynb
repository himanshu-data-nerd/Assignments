{
 "cells": [
  {
   "cell_type": "markdown",
   "id": "837f79f7-144d-461d-b807-4664ea01d701",
   "metadata": {},
   "source": [
    "---\n",
    "\n",
    "### Q1. What is a parameter? \n",
    "\n",
    "A **parameter** is an internal variable within a model whose value is learned from the training data. These are the values that the machine learning algorithm \"tunes\" during the training process.\n",
    "\n",
    "* **Example:** In a linear regression model (y = mx + c), the slope (`m`) and the y-intercept (`c`) are parameters.\n",
    "\n",
    "---"
   ]
  },
  {
   "cell_type": "markdown",
   "id": "4f881964-a097-4264-aac6-c404d4cd2995",
   "metadata": {},
   "source": [
    "### Q2. What is correlation?\n",
    "\n",
    "**Correlation** is a statistical measure that describes the strength and direction of a linear relationship between two variables. It is represented by a value between -1 and +1.\n",
    "\n",
    "* **+1:** Perfect positive correlation (as one variable increases, the other increases).\n",
    "* **-1:** Perfect negative correlation (as one variable increases, the other decreases).\n",
    "* **0:** No linear correlation.\n",
    "\n",
    "#### What does negative correlation mean? \n",
    "\n",
    "A **negative correlation** (a value between 0 and -1) means that as one variable increases, the other variable tends to decrease.\n",
    "\n",
    "* **Example:** As the hours spent practicing (increase), the number of mistakes made (decrease).\n",
    "\n",
    "---"
   ]
  },
  {
   "cell_type": "markdown",
   "id": "12ad848f-55d1-49f3-b86c-deb23908173e",
   "metadata": {},
   "source": [
    "### 3. Define Machine Learning. [cite_start]What are the main components in Machine Learning? [cite: 13]\n",
    "\n",
    "**Machine Learning (ML)** is a field of artificial intelligence (AI) where algorithms \"learn\" from data to find patterns and make predictions or decisions, improving their performance with more data, without being explicitly programmed for every task.\n",
    "\n",
    "**Main Components:**\n",
    "1.  **Data:** The raw information (training, validation, and test sets) used to teach and evaluate the model.\n",
    "2.  **Model:** The specific algorithm chosen for the task (e.g., Linear Regression, Decision Tree).\n",
    "3.  **Parameters:** The internal values of the model that are learned during training (e.g., weights).\n",
    "4.  **Loss Function (Cost Function):** A function that measures how \"wrong\" the model's predictions are compared to the actual values. The goal is to minimize this loss.\n",
    "5.  **Optimizer:** The algorithm used to adjust the model's parameters to minimize the loss function (e.g., Gradient Descent).\n",
    "\n",
    "---"
   ]
  },
  {
   "cell_type": "markdown",
   "id": "3dc7c40d-2e73-410d-a35f-e1a4c2cc68c8",
   "metadata": {},
   "source": [
    "### Q4. How does loss value help in determining whether the model is good or not?\n",
    "\n",
    "The loss value quantifies the model's error.\n",
    "\n",
    "* A **low loss value** means the model's predictions are very close to the actual, true values. This indicates the model is performing well.\n",
    "* A **high loss value** means the model's predictions are far from the actual values, indicating poor performance.\n",
    "\n",
    "By monitoring the loss on training and validation data, we can determine if the model is learning effectively or if it is **overfitting** (low training loss but high validation loss).\n",
    "\n",
    "---"
   ]
  },
  {
   "cell_type": "markdown",
   "id": "621a3675-164d-4549-8ea2-8d60c6d1deec",
   "metadata": {},
   "source": [
    "### Q5. What are continuous and categorical variables?\n",
    "\n",
    "* **Continuous Variable:** A variable that can take on an infinite number of values within a given range. These are typically numeric and can be measured.\n",
    "    * **Examples:** Temperature (30.5°C), height (175.2 cm), price ($50.99).\n",
    "* **Categorical Variable:** A variable that can only take on a limited, fixed number of values or \"categories.\" These represent labels or groups.\n",
    "    * **Examples:** Color (Red, Green, Blue), gender (Male, Female, Other), city (Delhi, Mumbai, Chennai).\n",
    "\n",
    "---"
   ]
  },
  {
   "cell_type": "markdown",
   "id": "53576295-a96f-457d-9016-0a99c2a89637",
   "metadata": {},
   "source": [
    "### 6. How do we handle categorical variables in Machine Learning? [cite_start]What are the common techniques?\n",
    "\n",
    "Machine learning models require numeric input, so categorical variables must be converted into numbers. This process is called **encoding**.\n",
    "\n",
    "**Common Techniques:**\n",
    "1.  **One-Hot Encoding:** Creates new binary (0 or 1) columns for each unique category. This is best for *nominal* data (categories with no order, like \"City\").\n",
    "    * **Example:** `Color` (Red, Green) becomes two columns: `is_Red` (1,0) and `is_Green` (0,1).\n",
    "2.  **Label Encoding:** Assigns a unique integer to each category (e.g., Red=0, Green=1, Blue=2). This is suitable for *ordinal* data (categories with a natural order, like 'Low'=0, 'Medium'=1, 'High'=2).\n",
    "\n",
    "---"
   ]
  },
  {
   "cell_type": "markdown",
   "id": "62334bc5-e7e8-45d2-94c9-73aff930fb73",
   "metadata": {},
   "source": [
    "### Q7. What do you mean by training and testing a dataset?\n",
    "\n",
    "* **Training Dataset:** This is the majority portion of the data (e.g., 70-80%) used to *teach* the machine learning model. The model learns the underlying patterns by \"seeing\" both the input features and the correct answers (labels) in this data.\n",
    "* **Testing Dataset:** This is the remaining portion of the data (e.g., 20-30%) that the model has *never seen before*. It is used to evaluate the model's performance on new, unseen data, which simulates how it would perform in the real world.\n",
    "\n",
    "---"
   ]
  },
  {
   "cell_type": "markdown",
   "id": "15a7fce4-7707-4248-a361-3946ec1880d3",
   "metadata": {},
   "source": [
    "### Q8. What is sklearn.preprocessing?\n",
    "\n",
    "`sklearn.preprocessing` is a module in the scikit-learn library in Python. It provides tools for cleaning, transforming, and formatting raw input data so it can be used effectively by machine learning models.\n",
    "\n",
    "* **Common functions:** `StandardScaler` (feature scaling), `MinMaxScaler` (normalization), `OneHotEncoder` (encoding), `LabelEncoder` (encoding).\n",
    "\n",
    "---"
   ]
  },
  {
   "cell_type": "markdown",
   "id": "766f2a10-1eb4-4a67-9a4d-56712b8150c9",
   "metadata": {},
   "source": [
    "### Q9. What is a Test set? \n",
    "\n",
    "A **Test set** (or testing dataset) is a subset of the original dataset that is held back and *not* used during the training of a model. Its purpose is to provide an unbiased evaluation of the final model's performance on new, unseen data.\n",
    "\n",
    "---"
   ]
  },
  {
   "cell_type": "markdown",
   "id": "18e62c58-c6ee-48d9-9ff5-f8e79fcd7104",
   "metadata": {},
   "source": [
    "### Q10. How do we split data for model fitting (training and testing) in Python?\n",
    "\n",
    "We use the `train_test_split` function from the `sklearn.model_selection` module."
   ]
  },
  {
   "cell_type": "code",
   "execution_count": 4,
   "id": "e35b57a6-b51b-40e9-8ace-c05ebe221de9",
   "metadata": {},
   "outputs": [],
   "source": [
    "from sklearn.model_selection import train_test_split\n",
    "\n",
    "# Assume X contains your features (e.g., a pandas DataFrame)\n",
    "# Assume y contains your target variable (e.g., a pandas Series)\n",
    "\n",
    "# X = df.drop('target_column', axis=1)\n",
    "# y = df['target_column']\n",
    "\n",
    "# Split the data: 80% for training, 20% for testing\n",
    "# random_state=42 ensures the split is reproducible (you get the same split every time)\n",
    "X_train, X_test, y_train, y_test = train_test_split(X, y, test_size=0.2, random_state=42)\n",
    "\n",
    "# Now X_train, y_train are the training set\n",
    "# And X_test, y_test are the testing set"
   ]
  },
  {
   "cell_type": "markdown",
   "id": "ae3d11ed-dd7d-473b-9493-1c57b72f0e6b",
   "metadata": {},
   "source": [
    "### How do you approach a Machine Learning problem?\n",
    "\n",
    "1.  **Define the Problem:** Clearly state the objective (e.g., predict sales, classify images).\n",
    "2.  **Data Collection:** Gather the necessary data.\n",
    "3.  **Data Preprocessing:** Clean the data (handle missing values, remove duplicates).\n",
    "4.  **Exploratory Data Analysis (EDA):** Analyze data to find patterns, correlations, and insights using statistics and visualizations.\n",
    "5.  **Feature Engineering & Selection:** Create new features and select the most relevant ones.\n",
    "6.  **Data Splitting:** Divide the data into training, validation, and testing sets.\n",
    "7.  **Model Selection:** Choose a suitable ML algorithm.\n",
    "8.  **Model Training:** Fit the model to the training data.\n",
    "9.  **Model Evaluation:** Check performance on the test set using metrics (e.g., accuracy, loss).\n",
    "10. **Hyperparameter Tuning:** Adjust model settings to improve performance.\n",
    "11. **Deployment:** Deploy the final model for real-world use.\n",
    "\n",
    "---"
   ]
  },
  {
   "cell_type": "markdown",
   "id": "25475c73-9a45-48fa-8125-a1410d2c4298",
   "metadata": {},
   "source": [
    "### Q11. Why do we have to perform EDA before fitting a model to the data?\n",
    "\n",
    "Exploratory Data Analysis (EDA) is crucial for several reasons:\n",
    "\n",
    "* **Understand the Data:** To learn about its structure, quality, and distributions.\n",
    "* **Identify Errors:** To find missing values, outliers, or incorrect data that must be cleaned.\n",
    "* **Discover Patterns:** To see how variables relate to each other and to the target variable (e.g., find correlations).\n",
    "* **Guide Feature Engineering:** To get ideas for new features that could improve the model.\n",
    "* **Inform Model Selection:** The data's characteristics (e.g., linear vs. non-linear relationships) help in choosing the right algorithm.\n",
    "\n",
    "Fitting a model to \"dirty\" or poorly understood data will result in a poor-performing model.\n",
    "\n",
    "---"
   ]
  },
  {
   "cell_type": "markdown",
   "id": "afcae68c-2e9e-460c-a17f-bd24af11def2",
   "metadata": {},
   "source": [
    "### Q12. What is correlation? \n",
    "\n",
    "Correlation is a statistical measure (from -1 to +1) that describes the strength and direction of a *linear* relationship between two variables.\n",
    "\n",
    "---"
   ]
  },
  {
   "cell_type": "markdown",
   "id": "2bd5fdb2-d3ec-4dac-996a-52167bf360d7",
   "metadata": {},
   "source": [
    "### Q13. What does negative correlation mean? \n",
    "\n",
    "A negative correlation means that as one variable's value increases, the other variable's value tends to decrease.\n",
    "* **Example:** The more kilometers you run (increase), the less (decrease) battery life your phone might have.\n",
    "\n",
    "---"
   ]
  },
  {
   "cell_type": "markdown",
   "id": "15431ea5-66b0-4a04-ab1f-aab922a8b1f1",
   "metadata": {},
   "source": [
    "### Q14. How can you find correlation between variables in Python?"
   ]
  },
  {
   "cell_type": "code",
   "execution_count": 2,
   "id": "b7191408-1eca-422c-93ac-3f213be43cf4",
   "metadata": {},
   "outputs": [
    {
     "name": "stdout",
     "output_type": "stream",
     "text": [
      "Correlation Matrix:\n",
      "               Hours_Studied  Exam_Score  Hours_Slept\n",
      "Hours_Studied       1.000000    1.000000    -0.991241\n",
      "Exam_Score          1.000000    1.000000    -0.991241\n",
      "Hours_Slept        -0.991241   -0.991241     1.000000\n"
     ]
    },
    {
     "data": {
      "image/png": "[encoded data removed]",
      "text/plain": [
       "<Figure size 600x400 with 2 Axes>"
      ]
     },
     "metadata": {},
     "output_type": "display_data"
    }
   ],
   "source": [
    "import pandas as pd\n",
    "import seaborn as sns\n",
    "import matplotlib.pyplot as plt\n",
    "\n",
    "# Create a sample DataFrame\n",
    "data = {\n",
    "    'Hours_Studied': [2, 3, 5, 1, 6],\n",
    "    'Exam_Score': [70, 75, 85, 65, 90],\n",
    "    'Hours_Slept': [8, 7, 6, 9, 5]\n",
    "}\n",
    "df = pd.DataFrame(data)\n",
    "\n",
    "# 1. Calculate the correlation matrix\n",
    "correlation_matrix = df.corr()\n",
    "\n",
    "print(\"Correlation Matrix:\")\n",
    "print(correlation_matrix)\n",
    "\n",
    "# 2. (Optional) Visualize the matrix with a heatmap\n",
    "plt.figure(figsize=(6, 4))\n",
    "sns.heatmap(correlation_matrix, annot=True, cmap='coolwarm')\n",
    "plt.title('Correlation Heatmap')\n",
    "plt.show()"
   ]
  },
  {
   "cell_type": "markdown",
   "id": "e6af1af4-fa66-4910-a28f-ae52dd652567",
   "metadata": {},
   "source": [
    "---"
   ]
  },
  {
   "cell_type": "markdown",
   "id": "40e7dd7b-68e6-4e80-873c-f3b9750d1b54",
   "metadata": {},
   "source": [
    "### Q15. What is causation? [cite_start]Explain difference between correlation and causation with an example.\n",
    "\n",
    "* **Causation:** This means that a change in one variable *directly causes* a change in another variable.\n",
    "* **Correlation:** This simply means two variables tend to move together, but it does *not* imply that one causes the other.\n",
    "\n",
    "**Difference & Example:**\n",
    "The classic example is **ice cream sales and shark attacks**.\n",
    "* **Correlation:** There is a strong positive correlation between ice cream sales and the number of shark attacks. As one goes up, the other goes up.\n",
    "* **Causation (or lack thereof):** Eating ice cream does *not* cause shark attacks.\n",
    "* **The Real Cause (Lurking Variable):** The hidden variable causing both is **hot weather (Summer)**. When it's hot, more people go to the beach (increasing shark attack encounters) and more people buy ice cream.\n",
    "\n",
    "**Key takeaway: *Correlation does not imply causation.***\n",
    "\n",
    "---"
   ]
  },
  {
   "cell_type": "markdown",
   "id": "49cfb0a7-f940-4288-ad72-e6cebf75ff33",
   "metadata": {},
   "source": [
    "### Q16. What is an Optimizer? What are different types of optimizers? [cite_start]Explain each with an example.\n",
    "\n",
    "An **Optimizer** is an algorithm used in machine learning to adjust the model's parameters (like weights) to minimize the **loss function**. It's the engine that \"steers\" the model towards the best possible performance.\n",
    "\n",
    "**Types of Optimizers:**\n",
    "1.  **Gradient Descent (GD) (or Batch GD):**\n",
    "    * **How it works:** It calculates the gradient (slope) of the loss function using the *entire training dataset* at once, then updates the parameters.\n",
    "    * **Example:** It's like looking at a map of the entire landscape (all data) before taking one step downhill. It's accurate but very slow for large datasets.\n",
    "2.  **Stochastic Gradient Descent (SGD):**\n",
    "    * **How it works:** It updates the parameters using the gradient calculated from just *one* training sample at a time.\n",
    "    * **Example:** It's like taking a step downhill based on the slope at your exact location (one sample). It's very fast but \"noisy\" (zig-zags a lot).\n",
    "3.  **Mini-Batch Gradient Descent:**\n",
    "    * **How it works:** A compromise. It updates parameters using the gradient from a small \"batch\" (e.g., 32 or 64 samples).\n",
    "    * **Example:** This is the most common approach. It's like taking a step based on the average slope of your immediate surroundings (the batch). It's fast and stable.\n",
    "4.  **Optimizers with Momentum (e.g., Adam, RMSprop):**\n",
    "    * **How they work:** Advanced optimizers (often based on mini-batch) that adapt the learning rate (step size) automatically and use \"momentum\" (past gradient information) to speed up training.\n",
    "    * **Example (Adam):** Adam (Adaptive Moment Estimation) is very popular because it combines the benefits of momentum and adaptive learning rates. It generally works very well with default settings.\n",
    "\n",
    "---"
   ]
  },
  {
   "cell_type": "markdown",
   "id": "5d167e2d-a2e0-4d4f-8ab9-da048f3399d5",
   "metadata": {},
   "source": [
    "### Q17. What is sklearn.linear_model?\n",
    "\n",
    "`sklearn.linear_model` is a module in the scikit-learn library that contains algorithms based on linear models. These models assume a linear relationship between the input features (X) and the output target (y).\n",
    "\n",
    "* **Common models included:**\n",
    "    * `LinearRegression`: Standard regression.\n",
    "    * `Ridge` and `Lasso`: Linear regression with regularization (to prevent overfitting).\n",
    "    * `LogisticRegression`: A linear model used for classification problems.\n",
    "\n",
    "---"
   ]
  },
  {
   "cell_type": "markdown",
   "id": "dca2e800-6c8e-48c9-941b-c9a275c31afb",
   "metadata": {},
   "source": [
    "### Q18. What does model.fit() do? [cite_start]What arguments must be given? \n",
    "\n",
    "The `model.fit()` method is the command that **trains** the machine learning model. When you call `fit()`, the model learns the patterns, relationships, and parameters from the data you provide.\n",
    "\n",
    "**Required Arguments:**\n",
    "1.  **X (Features):** The training data (inputs). This is a 2D array or DataFrame.\n",
    "2.  **y (Target):** The training labels (outputs/answers). This is a 1D array or Series.\n",
    "\n",
    "**Example:** `model.fit(X_train, y_train)`\n",
    "\n",
    "---"
   ]
  },
  {
   "cell_type": "markdown",
   "id": "5ef8b625-1a08-48ce-8064-0969afc43bbf",
   "metadata": {},
   "source": [
    "### Q19. What does model.predict() do? [cite_start]What arguments must be given?\n",
    "\n",
    "The `model.predict()` method is used *after* a model has been trained (using `fit()`). It takes new, unseen data and generates the model's prediction for the output.\n",
    "\n",
    "**Required Arguments:**\n",
    "1.  **X (Features):** The new data (inputs) for which you want predictions. This must have the same structure (same number and order of features) as the training data. This is typically `X_test`.\n",
    "\n",
    "**Example:** `predictions = model.predict(X_test)`\n",
    "\n",
    "---"
   ]
  },
  {
   "cell_type": "markdown",
   "id": "9840a804-abb1-4f79-a5e2-8cfa2da7782e",
   "metadata": {},
   "source": [
    "### Q20. What are continuous and categorical variables?\n",
    "\n",
    "* **Continuous Variable:** A numeric variable that can take any value within a range (e.g., height, temperature, price).\n",
    "* **Categorical Variable:** A variable that represents discrete groups or labels (e.g., 'Color', 'City', 'Yes/No').\n",
    "\n",
    "---"
   ]
  },
  {
   "cell_type": "markdown",
   "id": "0cd958dc-d1dd-4570-b076-016242b98ac6",
   "metadata": {},
   "source": [
    "### Q21. What is feature scaling? [cite_start]How does it help in Machine Learning? \n",
    "\n",
    "**Feature Scaling** is a preprocessing technique used to standardize or normalize the range of independent variables (features).\n",
    "\n",
    "**How it helps:**\n",
    "Many ML algorithms (like k-NN, SVM, Linear Regression, and Neural Networks) are sensitive to the scale of the input data.\n",
    "* **Problem:** If one feature (`Salary`) ranges from 0-1,000,000 and another (`Age`) ranges from 0-100, the `Salary` feature will computationally dominate the model, and the `Age` feature will be ignored.\n",
    "* **Solution (Scaling):** Scaling brings all features onto a similar scale (e.g., all between 0 and 1, or all centered around 0).\n",
    "* **Benefits:** This leads to faster training (convergence) and a more accurate model that treats all features fairly.\n",
    "\n",
    "---"
   ]
  },
  {
   "cell_type": "markdown",
   "id": "64b2a127-6670-4bad-8221-a0141d59b831",
   "metadata": {},
   "source": [
    "### Q22. How do we perform scaling in Python?"
   ]
  },
  {
   "cell_type": "code",
   "execution_count": 1,
   "id": "d571715c-3be1-4165-a1ca-437a2ee32be3",
   "metadata": {},
   "outputs": [
    {
     "name": "stdout",
     "output_type": "stream",
     "text": [
      "--- Original X_train ---\n",
      "   Age  Salary\n",
      "4   45  110000\n",
      "2   35   75000\n",
      "0   25   50000\n",
      "3   40   90000\n",
      "\n",
      "--- Original X_test ---\n",
      "   Age  Salary\n",
      "1   30   60000\n",
      "\n",
      "--- StandardScaled X_train ---\n",
      "[[ 1.18321596  1.31267933]\n",
      " [-0.16903085 -0.28536507]\n",
      " [-1.52127766 -1.42682536]\n",
      " [ 0.50709255  0.3995111 ]]\n",
      "\n",
      "--- StandardScaled X_test ---\n",
      "[[-0.84515425 -0.97024125]]\n",
      "\n",
      "--- MinMaxScaled X_train ---\n",
      "[[1.         1.        ]\n",
      " [0.5        0.41666667]\n",
      " [0.         0.        ]\n",
      " [0.75       0.66666667]]\n",
      "\n",
      "--- MinMaxScaled X_test ---\n",
      "[[0.25       0.16666667]]\n"
     ]
    }
   ],
   "source": [
    "from sklearn.preprocessing import StandardScaler, MinMaxScaler\n",
    "from sklearn.model_selection import train_test_split\n",
    "import pandas as pd\n",
    "\n",
    "# 0. Sample Data (assuming we already have X_train, X_test from Q10)\n",
    "data = {'Age': [25, 30, 35, 40, 45], 'Salary': [50000, 60000, 75000, 90000, 110000]}\n",
    "df = pd.DataFrame(data)\n",
    "X = df\n",
    "y = [0, 0, 1, 1, 1] # Sample target\n",
    "X_train, X_test, y_train, y_test = train_test_split(X, y, test_size=0.2, random_state=42)\n",
    "\n",
    "print(\"--- Original X_train ---\")\n",
    "print(X_train)\n",
    "print(\"\\n--- Original X_test ---\")\n",
    "print(X_test)\n",
    "\n",
    "# --- Example 1: StandardScaler (Standardization: mean=0, std=1) ---\n",
    "\n",
    "# 1. Create the scaler object\n",
    "scaler = StandardScaler()\n",
    "\n",
    "# 2. Fit the scaler ONLY on the training data\n",
    "scaler.fit(X_train)\n",
    "\n",
    "# 3. Transform both the training and testing data\n",
    "X_train_scaled = scaler.transform(X_train)\n",
    "X_test_scaled = scaler.transform(X_test)\n",
    "\n",
    "print(\"\\n--- StandardScaled X_train ---\")\n",
    "print(X_train_scaled)\n",
    "print(\"\\n--- StandardScaled X_test ---\")\n",
    "print(X_test_scaled)\n",
    "\n",
    "\n",
    "# --- Example 2: MinMaxScaler (Normalization: range [0, 1]) ---\n",
    "# (You would typically choose one, not use both)\n",
    "\n",
    "min_max_scaler = MinMaxScaler()\n",
    "min_max_scaler.fit(X_train)\n",
    "\n",
    "X_train_normalized = min_max_scaler.transform(X_train)\n",
    "X_test_normalized = min_max_scaler.transform(X_test)\n",
    "\n",
    "print(\"\\n--- MinMaxScaled X_train ---\")\n",
    "print(X_train_normalized)\n",
    "print(\"\\n--- MinMaxScaled X_test ---\")\n",
    "print(X_test_normalized)"
   ]
  },
  {
   "cell_type": "markdown",
   "id": "f27eb638-59de-4019-bc5d-1c758ec9a25b",
   "metadata": {},
   "source": [
    "---"
   ]
  },
  {
   "cell_type": "markdown",
   "id": "f5c0a250-905a-4ab7-b53d-f51e0ca75908",
   "metadata": {},
   "source": [
    "### Q23. What is sklearn.preprocessing? \n",
    "\n",
    "(This is a repeat of question 8)\n",
    "`sklearn.preprocessing` is a module in the scikit-learn (sklearn) library. It provides essential functions for data transformation *before* it is fed into a machine learning model. This includes scaling (`StandardScaler`, `MinMaxScaler`) and encoding categorical data (`OneHotEncoder`, `LabelEncoder`).\n",
    "\n",
    "---"
   ]
  },
  {
   "cell_type": "markdown",
   "id": "6f3faab6-9e0d-45b3-9c6c-2512bae4ba1c",
   "metadata": {},
   "source": [
    "### Q24. How do we split data for model fitting (training and testing) in Python?"
   ]
  },
  {
   "cell_type": "code",
   "execution_count": 3,
   "id": "a06cea53-c4f2-4247-aec9-7fff4bf47abe",
   "metadata": {},
   "outputs": [],
   "source": [
    "from sklearn.model_selection import train_test_split\n",
    "\n",
    "# Assume X is your DataFrame of features\n",
    "# Assume y is your Series/array of target labels\n",
    "# X_train, X_test, y_train, y_test = train_test_split(X, y, test_size=0.2, random_state=42)\n",
    "\n",
    "# test_size=0.2 reserves 20% of the data for the test set.\n",
    "# random_state=42 ensures the split is reproducible (you get the same split every time)."
   ]
  },
  {
   "cell_type": "markdown",
   "id": "d8ab9847-dbcc-4dd7-8701-a52a8f4fe651",
   "metadata": {},
   "source": [
    "---"
   ]
  },
  {
   "cell_type": "markdown",
   "id": "7085709c-b604-4aaa-9bd6-f121fc6cfa03",
   "metadata": {},
   "source": [
    "### Q25. Explain data encoding?\n",
    "\n",
    "**Data Encoding** is the process of converting categorical (non-numeric) data into a numerical format that machine learning algorithms can understand.\n",
    "\n",
    "**Main Types:**\n",
    "1.  **One-Hot Encoding:** Converts a single categorical column into multiple new binary (0/1) columns, one for each unique category.\n",
    "    * **Used for:** *Nominal* data (categories with no order, e.g., 'City').\n",
    "2.  **Label Encoding:** Assigns a unique integer (0, 1, 2, 3...) to each category.\n",
    "    * **Used for:** *Ordinal* data (categories with a clear order, e.g., 'Small'=0, 'Medium'=1, 'Large'=2)."
   ]
  },
  {
   "cell_type": "markdown",
   "id": "b1bb9752-ab1e-47aa-aaf1-46e2051ad847",
   "metadata": {},
   "source": [
    "---"
   ]
  },
  {
   "cell_type": "code",
   "execution_count": null,
   "id": "a1c9e601-6a50-41ad-b55b-1e3a2985473c",
   "metadata": {},
   "outputs": [],
   "source": []
  }
 ],
 "metadata": {
  "kernelspec": {
   "display_name": "Python 3 (ipykernel)",
   "language": "python",
   "name": "python3"
  },
  "language_info": {
   "codemirror_mode": {
    "name": "ipython",
    "version": 3
   },
   "file_extension": ".py",
   "mimetype": "text/x-python",
   "name": "python",
   "nbconvert_exporter": "python",
   "pygments_lexer": "ipython3",
   "version": "3.12.4"
  }
 },
 "nbformat": 4,
 "nbformat_minor": 5
}
