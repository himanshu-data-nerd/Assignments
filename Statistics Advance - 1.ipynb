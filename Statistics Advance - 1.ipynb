{
 "cells": [
  {
   "cell_type": "markdown",
   "id": "d4eff550-8ede-4b0b-b286-d0067b4e6a20",
   "metadata": {},
   "source": [
    "### Q1: What is a random variable in probability theory?\n",
    "\n",
    "A random variable is a variable whose value is a numerical outcome of a random phenomenon. In more formal terms, it is a function that maps the outcomes of a random experiment to a set of numerical values. It's a way of representing the outcomes of a chance process with numbers.\n",
    "- Core Concept: It acts as a placeholder for a value that is yet to be determined, and this value is subject to chance. For example, if we flip a coin, the outcome can be \"Heads\" or \"Tails\". We can define a random variable, say X, where X=1 if the outcome is \"Heads\" and X=0 if the outcome is \"Tails\".\n",
    "- Notation: Random variables are typically denoted by uppercase letters (e.g., X, Y, Z), while the specific values they can take are denoted by corresponding lowercase letters (e.g., x, y, z).\n",
    "\n",
    "    Example: Consider the experiment of rolling a standard six-sided die. The set of possible outcomes is {1,2,3,4,5,6}. We can define a random variable X to be the number that appears on the die. Here, X can take any value from the set {1,2,3,4,5,6}. The value of X is random before the die is rolled."
   ]
  },
  {
   "cell_type": "markdown",
   "id": "b187e9c9-495d-4283-907e-245437f782b6",
   "metadata": {},
   "source": [
    "---"
   ]
  },
  {
   "cell_type": "markdown",
   "id": "99bbe74f-9ce5-4039-97b5-6dfff72d02d7",
   "metadata": {},
   "source": [
    "### Q2: What are the types of random variables? \n",
    "\n",
    "There are two main types of random variables, categorized based on the values they can take:\n",
    "\n",
    "**Discrete Random Variable:**\n",
    "- A random variable is discrete if it can take on a finite or countably infinite number of distinct values. These values are often integers.\n",
    "- There are gaps between the possible values. You can \"count\" the possible outcomes.\n",
    "\n",
    "Examples:\n",
    "- The number of heads in three coin flips (can be 0, 1, 2, or 3).\n",
    "- The result of a single roll of a six-sided die (can be 1, 2, 3, 4, 5, or 6).\n",
    "- The number of defective items in a sample of 50 items.\n",
    "- The number of emails you receive in an hour.\n",
    "\n",
    "**Continuous Random Variable:**\n",
    "- A random variable is continuous if it can take on any value within a given range or interval.\n",
    "- Between any two possible values, there are infinitely many other possible values. You cannot count the possible outcomes; they are \"measured\".\n",
    "\n",
    "Examples:\n",
    "- The height of a person (can be 175 cm, 175.1 cm, 175.11 cm, etc.).\n",
    "- The exact temperature of a room.\n",
    "- The time it takes to complete a task.\n",
    "- The weight of a package."
   ]
  },
  {
   "cell_type": "markdown",
   "id": "361e7eef-20fb-44ae-a0df-7c2c99b547cd",
   "metadata": {},
   "source": [
    "---"
   ]
  },
  {
   "cell_type": "markdown",
   "id": "131823bc-b957-48ce-b442-fc5f6f1fb7f7",
   "metadata": {},
   "source": [
    "### Q3: Explain the difference between discrete and continuous distributions. \n",
    "\n",
    "A probability distribution describes the likelihood of all possible outcomes for a random variable. The fundamental difference between discrete and continuous distributions stems from the nature of the random variable they describe.\n",
    "\n",
    "**Discrete Distribution**\n",
    "- Describes probabilities for a discrete random variable (countable values).\n",
    "- Probability Mass Function (PMF), denoted P(X=x). It gives the probability that the variable takes a specific value. The sum of all probabilities is 1.\n",
    "- P(X=x)≥0 for all possible values x, and ∑P(X=x)=1.\n",
    "- Probability is found by summing the PMF values for the outcomes of interest. For example, P(X≤k)=∑x≤k.P(X=x).\n",
    "- Represented by a bar chart or histogram, where the height of each bar corresponds to the probability of that specific outcome.\n",
    "- Example: Binomial Distribution, Poisson Distribution, Bernoulli Distribution.\n",
    "\n",
    "**Continuous Distribution**\n",
    "- Describes probabilities for a continuous random variable (values in a range).\n",
    "- Probability Density Function (PDF), denoted f(x). It describes the likelihood of a variable falling within a particular range. The probability of the variable taking a single, exact value is 0.\n",
    "- f(x)≥0. The total area under the curve of the PDF over its entire range is equal to 1.\n",
    "- Probability is found by calculating the integral (area under the curve) of the PDF over a specific interval. P(a≤X≤b)=∫ab.f(x)dx.\n",
    "- Represented by a smooth curve. The area under the curve between two points represents the probability of the outcome falling in that interval.\n",
    "- Example: Normal Distribution, Uniform Distribution, Exponential Distribution."
   ]
  },
  {
   "cell_type": "markdown",
   "id": "ea41d422-e091-40dd-944c-e400532f269b",
   "metadata": {},
   "source": [
    "---"
   ]
  },
  {
   "cell_type": "markdown",
   "id": "4fa05e80-9358-4fd6-ae0c-42dbdd49ea37",
   "metadata": {},
   "source": [
    "### Q4: What is a binomial distribution, and how is it used in probability? \n",
    "\n",
    "The binomial distribution is a discrete probability distribution that models the number of successes in a fixed number of independent trials of a random experiment.\n",
    "\n",
    "**Characteristics and Conditions for Binomial Distribution:**\n",
    "- For a distribution to be binomial, the following four conditions must be met:\n",
    "- Fixed Number of Trials (n): The experiment consists of a fixed number of identical trials.\n",
    "- Two Possible Outcomes: Each trial has only two possible outcomes, typically labeled \"success\" and \"failure\".\n",
    "- Constant Probability of Success (p): The probability of a success, denoted by p, is the same for each trial. The probability of a failure is therefore (1−p), often denoted by q.\n",
    "- Independent Trials: The outcome of each trial is independent of the outcomes of all other trials.\n",
    "\n",
    "**How it is used:**\n",
    "The binomial distribution is used to calculate the probability of observing exactly k successes in n trials. The formula for the Probability Mass Function (PMF) is:\n",
    "\n",
    "P(X=k)=C(n,k)⋅p^k⋅(1−p)^n−k\n",
    " \n",
    "Where:\n",
    "n = number of trials.\n",
    "k = number of successes.\n",
    "p = probability of success on a single trial.\n",
    "\n",
    "C(n,k) = the number of combinations of n things taken k at a time (also written as \"n choose k\"), calculated as n!/(k!(n−k)!).\n",
    "\n",
    "**Applications in Probability and Statistics:**\n",
    "- Quality Control: To find the probability of finding a certain number of defective items in a batch. For example, what is the probability that exactly 3 out of 20 tested light bulbs are defective?\n",
    "- Medical Research: To determine the probability of a certain number of patients responding positively to a new drug in a clinical trial.\n",
    "- Marketing: To predict the probability of a specific number of people clicking on an ad after showing it to 1000 viewers.\n",
    "- Elections: To estimate the probability that a candidate gets a certain number of votes from a sample of voters."
   ]
  },
  {
   "cell_type": "markdown",
   "id": "419781cb-fba1-491f-ba90-ec9e88697922",
   "metadata": {},
   "source": [
    "---"
   ]
  },
  {
   "cell_type": "markdown",
   "id": "e486cdeb-a570-45c4-a05d-a0901dcd4bbe",
   "metadata": {},
   "source": [
    "### Q5: What is the standard normal distribution, and why is it important? \n",
    "\n",
    "The standard normal distribution, also known as the Z-distribution, is a special case of the normal distribution where the mean (μ) is 0 and the standard deviation (σ) is 1.\n",
    "\n",
    "Any normal distribution can be transformed into the standard normal distribution using a process called standardization. This is done by converting a value x from the original distribution into a z-score using the formula:\n",
    "\n",
    "z=(x−μ)/σ\n",
    "\n",
    "The z-score represents how many standard deviations an observation x is from the mean μ.\n",
    "\n",
    "**Importance of the Standard Normal Distribution:**\n",
    "- Standardization and Comparison: It provides a common scale for comparing values from different normal distributions. For example, you can compare a student's score on a math test (mean=70, sd=10) with their score on an English test (mean=80, sd=5) by converting both scores to z-scores.\n",
    "- Probability Calculation: It simplifies the calculation of probabilities for any normal distribution. Instead of needing a separate probability table for every possible combination of mean and standard deviation, we only need one table: the standard normal (z-table). We can find the probability for any value x by first converting it to a z-score and then looking up the probability in the z-table.\n",
    "- Foundation for Inferential Statistics: It is a cornerstone of many statistical methods, including:\n",
    "- **Hypothesis Testing:** Many statistical tests (like the z-test) are based on the assumption that the test statistic follows a standard normal distribution under the null hypothesis.\n",
    "- Confidence Intervals: It is used to calculate confidence intervals for population parameters like the mean when the population standard deviation is known or the sample size is large.\n",
    "- **Central Limit Theorem (CLT):** The CLT states that the distribution of sample means will be approximately normal (and can be standardized) for a large enough sample size, regardless of the population's original distribution. This makes the standard normal distribution incredibly powerful for making inferences about population means."
   ]
  },
  {
   "cell_type": "markdown",
   "id": "93ace189-9f83-4962-8289-d8048be08caa",
   "metadata": {},
   "source": [
    "---"
   ]
  },
  {
   "cell_type": "markdown",
   "id": "7e65e8cc-b169-4885-ba06-1149d4cca895",
   "metadata": {},
   "source": [
    "### Q6: What is the Central Limit Theorem (CLT), and why is it critical in statistics? \n",
    "\n",
    "The Central Limit Theorem (CLT) is one of the most fundamental concepts in statistics. It states that, for a sufficiently large sample size, the sampling distribution of the sample mean will be approximately normally distributed, regardless of the shape of the population's original distribution.\n",
    "\n",
    "**Key aspects of the CLT:**\n",
    "- Normality of Sampling Distribution: Even if the population distribution is skewed, bimodal, or uniform, the distribution of the means calculated from repeated samples drawn from that population will tend to form a normal distribution as the sample size increases. A sample size of n > 30 is often considered sufficient.\n",
    "- Mean of the Sampling Distribution: The mean of this sampling distribution of sample means (μx) will be equal to the population mean (μ).\n",
    "- Standard Deviation of the Sampling Distribution: The standard deviation of the sampling distribution of sample means, also known as the standard error of the mean (SEM), will be equal to the population standard deviation (σ) divided by the square root of the sample size (n).\n",
    "\n",
    "  - SEM=σ/root n\n",
    "\n",
    "**Why the CLT is critical in statistics:**\n",
    "- Enables Inference without Knowing the Population Distribution: This is the most significant contribution of the CLT. In real-world scenarios, we often don't know the exact distribution of the population we are studying. The CLT allows us to proceed with statistical inference (like hypothesis tests and confidence intervals) using normal distribution theory, as long as our sample size is large enough.\n",
    "- Foundation for Hypothesis Testing: Many hypothesis tests (e.g., z-tests, t-tests) rely on the assumption that the sample mean follows a normal distribution. The CLT provides the justification for this assumption, making these powerful tests widely applicable.\n",
    "- Accuracy in Estimation: The formula for the standard error (SEM=σ/root n) shows that as the sample size (n) increases, the standard error decreases. This means that larger samples produce sample means that are, on average, closer to the true population mean, leading to more precise estimates.\n",
    "- Basis for Confidence Intervals: The CLT is the reason we can construct confidence intervals for a population mean. It allows us to determine a range of values that likely contains the true population mean with a certain level of confidence, based on a single sample mean."
   ]
  },
  {
   "cell_type": "markdown",
   "id": "e8b97b1f-6006-4048-9827-e9c943af06d7",
   "metadata": {},
   "source": [
    "---"
   ]
  },
  {
   "cell_type": "markdown",
   "id": "3ae7557b-5266-469b-9580-aa6b844eebb6",
   "metadata": {},
   "source": [
    "### Q7: What is the significance of confidence intervals in statistical analysis? \n",
    "\n",
    "A confidence interval (CI) is a range of values, derived from sample data, that is likely to contain the value of an unknown population parameter. Instead of providing a single number as an estimate (a point estimate), a confidence interval provides a range, which reflects the uncertainty associated with the estimation process.\n",
    "\n",
    "A CI is typically expressed as:\n",
    "\n",
    "CI = Point Estimate ± Margin of Error\n",
    "\n",
    "For example, a \"95% confidence interval for the mean\" means that if we were to take many samples and construct a confidence interval from each one, we would expect about 95% of those intervals to contain the true population mean.\n",
    "\n",
    "**Significance in Statistical Analysis:**\n",
    "- Quantifies Uncertainty: A point estimate (like the sample mean) is our best single guess for the population parameter, but it's almost certainly not the exact value. A confidence interval provides a measure of this uncertainty. A wider interval implies more uncertainty, while a narrower interval implies a more precise estimate.\n",
    "- Provides a Range of Plausible Values: It gives a range of plausible values for the population parameter. This is often more useful for decision-making than a single point estimate. For instance, knowing the average delivery time is between 2.5 and 3.5 days (a CI) is more informative than just knowing the average is 3.0 days (a point estimate).\n",
    "- Informs about Statistical Significance: Confidence intervals can be used to perform hypothesis tests. If a 95% CI for a mean difference between two groups includes zero, it suggests that there is no statistically significant difference between the groups at the 0.05 significance level. If the interval does not contain zero, the result is statistically significant.\n",
    "- Highlights the Importance of Sample Size: The width of a confidence interval is influenced by the sample size. Larger sample sizes lead to smaller standard errors and thus narrower, more precise confidence intervals. This demonstrates the value of collecting more data to reduce uncertainty.\n",
    "- Improves Communication of Results: Reporting a confidence interval along with a point estimate provides a more complete and honest picture of the findings. It acknowledges the inherent variability in sampling and prevents overconfidence in the precision of a single estimate."
   ]
  },
  {
   "cell_type": "markdown",
   "id": "6cdd6f4c-5ab1-4ea7-bb4a-b31afabafc94",
   "metadata": {},
   "source": [
    "---"
   ]
  },
  {
   "cell_type": "markdown",
   "id": "39bb2c07-dbd3-4207-815c-3e9635228512",
   "metadata": {},
   "source": [
    "### Q8: What is the concept of expected value in a probability distribution? \n",
    "\n",
    "The expected value of a random variable is the long-run average value of the variable over many repeated trials or experiments. It is a weighted average of all possible values that the random variable can take, where the weights are the probabilities of each value occurring.\n",
    "\n",
    "It is often denoted as E(X) or the Greek letter mu (μ). The expected value is not necessarily a value that the random variable can actually take. For example, the expected value of a single die roll is 3.5, even though you can't roll a 3.5.\n",
    "\n",
    "**Calculation of Expected Value:**\n",
    "- The formula depends on whether the random variable is discrete or continuous.\n",
    "- For a Discrete Random Variable (X): The expected value is the sum of each possible value multiplied by its probability.\n",
    "- Formula: E(X)=∑[x⋅P(X=x)] where: x is a possible value of the random variable X.\n",
    "    - P(X=x) is the probability of the random variable taking the value x.\n",
    "- Example: For a fair six-sided die roll, the possible values are {1, 2, 3, 4, 5, 6}, and the probability for each is 1/6. E(X)=(1⋅1/6)+(2⋅1/6)+(3⋅1/6)+(4⋅1/6)+(5⋅1/6)+(6⋅1/6)=21/6=3.5.\n",
    "\n",
    "**For a Continuous Random Variable (X):**\n",
    "- The expected value is calculated by integrating the product of the variable and its probability density function (PDF) over its entire range.\n",
    "- Formula: E(X)=∫x⋅f(x)dx, where limit is -∞ to ∞. Also, x is a value the random variable can take. f(x) is the probability density function.\n",
    "\n",
    "**Interpretation and Use:**\n",
    "- Center of a Distribution: The expected value is a measure of the central tendency of a probability distribution. It tells us where the \"center of mass\" of the distribution lies.\n",
    "- Decision Making: In fields like finance, insurance, and gambling, expected value is crucial for making decisions under uncertainty. For example, an insurance company calculates the expected payout on a policy to determine a profitable premium. A gambler uses expected value to determine if a bet is favorable in the long run."
   ]
  },
  {
   "cell_type": "markdown",
   "id": "bb3dd0f2-bd93-4c9e-9909-8f1932132359",
   "metadata": {},
   "source": [
    "---"
   ]
  },
  {
   "cell_type": "markdown",
   "id": "2900f4a5-62c3-4673-97b3-407f57ff5ab3",
   "metadata": {},
   "source": [
    "### Q9: Write a Python program to generate 1000 random numbers from a normal distribution with mean=50 and standard deviation=5.\n",
    "Computing its mean and standard deviation using NumPy, and drawing a histogram to visualize the distribution. "
   ]
  },
  {
   "cell_type": "code",
   "execution_count": 2,
   "id": "73386013-c07f-4d56-97ed-f913db081017",
   "metadata": {},
   "outputs": [
    {
     "name": "stdout",
     "output_type": "stream",
     "text": [
      "Parameters for Data Generation:\n",
      "==============================\n",
      "Target Mean: 50\n",
      "Target Standard Deviation: 5\n",
      "\n",
      "Computed Statistics from Generated Data:\n",
      "=======================================\n",
      "Computed Mean: 50.1046\n",
      "Computed Standard Deviation: 5.1190\n"
     ]
    },
    {
     "data": {
      "image/png": "[encoded data removed]",
      "text/plain": [
       "<Figure size 1000x600 with 1 Axes>"
      ]
     },
     "metadata": {},
     "output_type": "display_data"
    }
   ],
   "source": [
    "# Import necessary libraries\n",
    "import numpy as np\n",
    "import matplotlib.pyplot as plt\n",
    "\n",
    "# --- Step 1: Define parameters ---\n",
    "mean_val = 50\n",
    "std_dev = 5\n",
    "num_samples = 1000\n",
    "\n",
    "# --- Step 2: Generate random numbers from a normal distribution ---\n",
    "# Use np.random.normal() to generate the data\n",
    "# loc = mean, scale = standard deviation, size = number of samples\n",
    "random_numbers = np.random.normal(loc=mean_val, scale=std_dev, size=num_samples)\n",
    "\n",
    "# --- Step 3: Compute the mean and standard deviation of the generated data ---\n",
    "# Use NumPy's built-in functions for calculation\n",
    "computed_mean = np.mean(random_numbers)\n",
    "computed_std = np.std(random_numbers)\n",
    "\n",
    "# --- Step 4: Print the results ---\n",
    "print(f\"Parameters for Data Generation:\")\n",
    "print(f\"==============================\")\n",
    "print(f\"Target Mean: {mean_val}\")\n",
    "print(f\"Target Standard Deviation: {std_dev}\")\n",
    "print(f\"\\nComputed Statistics from Generated Data:\")\n",
    "print(f\"=======================================\")\n",
    "print(f\"Computed Mean: {computed_mean:.4f}\")\n",
    "print(f\"Computed Standard Deviation: {computed_std:.4f}\")\n",
    "\n",
    "# --- Step 5: Visualize the distribution with a histogram ---\n",
    "plt.figure(figsize=(10, 6))\n",
    "# Create histogram\n",
    "plt.hist(random_numbers, bins=30, density=True, alpha=0.7, color='skyblue', edgecolor='black')\n",
    "\n",
    "# Add titles and labels for clarity\n",
    "plt.title(f'Histogram of {num_samples} Random Numbers from a Normal Distribution')\n",
    "plt.xlabel('Value')\n",
    "plt.ylabel('Density')\n",
    "plt.axvline(computed_mean, color='red', linestyle='dashed', linewidth=2, label=f'Computed Mean: {computed_mean:.2f}')\n",
    "plt.legend()\n",
    "plt.grid(True, which='both', linestyle='--', linewidth=0.5)\n",
    "\n",
    "# Show the plot\n",
    "plt.show()"
   ]
  },
  {
   "cell_type": "markdown",
   "id": "1b597d68-12c4-4dbf-aabd-7dca9de4069e",
   "metadata": {},
   "source": [
    "---"
   ]
  },
  {
   "cell_type": "markdown",
   "id": "08c2e81d-5c7f-43cb-9756-877967f4806c",
   "metadata": {},
   "source": [
    "### Q10: You are working as a data analyst for a retail company. The company has \n",
    "collected daily sales data for 2 years and wants you to identify the overall sales trend. \n",
    "\n",
    "daily_sales = [220, 245, 210, 265, 230, 250, 260, 275, 240, 255, \n",
    "235, 260, 245, 250, 225, 270, 265, 255, 250, 260] \n",
    "- Explain how you would apply the Central Limit Theorem to estimate the average sales \n",
    "with a 95% confidence interval.\n",
    "- Write the Python code to compute the mean sales and its confidence interval.\n",
    "\n",
    "**Ans:** The goal is to estimate the true average daily sales for the entire period (the population mean, μ) using the provided sample of 20 days of sales data.\n",
    "\n",
    "**Problem:** We don't know the actual distribution of all daily sales. It might be skewed or have an unusual shape. A small sample size (n=20) also means we cannot automatically assume normality.\n",
    "\n",
    "**CLT Application (with a caveat):** The Central Limit Theorem states that the distribution of sample means will be approximately normal if the sample size is large (typically n>30). Our sample size is small (n=20). However, if we can assume that the underlying population of daily sales is not heavily skewed, we can still proceed by using the t-distribution instead of the standard normal (z) distribution. The t-distribution is more appropriate for small samples as it accounts for the additional uncertainty. The logic is parallel to the CLT: we are using the properties of a sampling distribution to make an inference about the population mean.\n",
    "\n",
    "**Procedure:**\n",
    "- Calculate the Sample Mean (x bar): This will be our best point estimate for the true average daily sales.\n",
    "- Calculate the Sample Standard Deviation (s): This measures the variability in our sample data.\n",
    "- Calculate the Standard Error of the Mean (SEM): This estimates the standard deviation of the sampling distribution of the mean. The formula is SEM=s/root n\n",
    "- Determine the Critical Value (t∗): For a 95% confidence interval and a sample size of n=20, we need to find the critical t-value from the t-distribution with n−1=19 degrees of freedom. This value defines the boundaries of our interval.\n",
    "- Construct the Confidence Interval: The interval is calculated as:Confidence Interval =  xˉ±(t∗⋅SEM)\n",
    "\n",
    "This interval will give us a range of values within which we can be 95% confident that the true average daily sales (μ) lies."
   ]
  },
  {
   "cell_type": "code",
   "execution_count": 3,
   "id": "20417367-53e1-4c4f-a9c8-6e54497922c2",
   "metadata": {},
   "outputs": [
    {
     "name": "stdout",
     "output_type": "stream",
     "text": [
      "Sample Statistics:\n",
      "==================\n",
      "Sample Mean (Average Daily Sales): 248.25\n",
      "Sample Standard Deviation: 17.27\n",
      "Standard Error of the Mean (SEM): 3.86\n",
      "\n",
      "Confidence Interval Calculation:\n",
      "==============================\n",
      "Confidence Level: 95.0%\n",
      "Critical t-value: 2.093\n",
      "Margin of Error: 8.08\n",
      "\n",
      "Final Result:\n",
      "=============\n",
      "The 95% confidence interval for the average daily sales is: (240.17, 256.33)\n"
     ]
    }
   ],
   "source": [
    "# Import necessary libraries\n",
    "import numpy as np\n",
    "from scipy import stats\n",
    "\n",
    "# --- Step 1: Define the data ---\n",
    "daily_sales = [220, 245, 210, 265, 230, 250, 260, 275, 240, 255,\n",
    "               235, 260, 245, 250, 225, 270, 265, 255, 250, 260]\n",
    "\n",
    "# --- Step 2: Calculate sample statistics ---\n",
    "# Convert to a NumPy array for easier calculations\n",
    "sales_array = np.array(daily_sales)\n",
    "\n",
    "# Calculate sample mean and standard deviation\n",
    "sample_mean = np.mean(sales_array)\n",
    "sample_std = np.std(sales_array, ddof=1) # Use ddof=1 for sample standard deviation\n",
    "n = len(sales_array)\n",
    "\n",
    "# Calculate the standard error of the mean (SEM)\n",
    "sem = sample_std / np.sqrt(n)\n",
    "\n",
    "# --- Step 3: Determine the confidence interval ---\n",
    "# Define the confidence level\n",
    "confidence_level = 0.95\n",
    "# Degrees of freedom for t-distribution\n",
    "degrees_freedom = n - 1\n",
    "\n",
    "# Calculate the critical t-value\n",
    "# ppf is the percent point function (inverse of cdf)\n",
    "t_critical = stats.t.ppf((1 + confidence_level) / 2, df=degrees_freedom)\n",
    "\n",
    "# Calculate the margin of error\n",
    "margin_of_error = t_critical * sem\n",
    "\n",
    "# Calculate the confidence interval\n",
    "lower_bound = sample_mean - margin_of_error\n",
    "upper_bound = sample_mean + margin_of_error\n",
    "\n",
    "# --- Step 4: Print the results ---\n",
    "print(f\"Sample Statistics:\")\n",
    "print(f\"==================\")\n",
    "print(f\"Sample Mean (Average Daily Sales): {sample_mean:.2f}\")\n",
    "print(f\"Sample Standard Deviation: {sample_std:.2f}\")\n",
    "print(f\"Standard Error of the Mean (SEM): {sem:.2f}\")\n",
    "print(f\"\\nConfidence Interval Calculation:\")\n",
    "print(f\"==============================\")\n",
    "print(f\"Confidence Level: {confidence_level*100}%\")\n",
    "print(f\"Critical t-value: {t_critical:.3f}\")\n",
    "print(f\"Margin of Error: {margin_of_error:.2f}\")\n",
    "print(f\"\\nFinal Result:\")\n",
    "print(f\"=============\")\n",
    "print(f\"The 95% confidence interval for the average daily sales is: ({lower_bound:.2f}, {upper_bound:.2f})\")"
   ]
  },
  {
   "cell_type": "markdown",
   "id": "a58e4421-c61e-4fc7-aa13-873b7f9d6226",
   "metadata": {},
   "source": [
    "---"
   ]
  }
 ],
 "metadata": {
  "kernelspec": {
   "display_name": "Python 3 (ipykernel)",
   "language": "python",
   "name": "python3"
  },
  "language_info": {
   "codemirror_mode": {
    "name": "ipython",
    "version": 3
   },
   "file_extension": ".py",
   "mimetype": "text/x-python",
   "name": "python",
   "nbconvert_exporter": "python",
   "pygments_lexer": "ipython3",
   "version": "3.12.4"
  }
 },
 "nbformat": 4,
 "nbformat_minor": 5
}
