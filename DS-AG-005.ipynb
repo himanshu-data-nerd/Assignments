{
 "cells": [
  {
   "cell_type": "markdown",
   "id": "397ef3cb-037b-42a2-a4b9-8c98446cb931",
   "metadata": {},
   "source": [
    "### Question 1: What is the difference between descriptive statistics and inferential statistics? Explain with examples.\n",
    "Answer:\n",
    "Descriptive statistics and inferential statistics address different goals in statistical analysis. Descriptive statistics aim to summarize and describe the main features of a dataset using numerical measures and visual tools. Typical numerical measures include the mean (average), median, mode, variance, standard deviation, range, and interquartile range (IQR). Visual tools include histograms, boxplots, bar charts, and scatter plots. Descriptive statistics answer questions such as 'What is the average?', 'How spread out are the values?', and 'Are there any obvious outliers?'. They do not attempt to generalize beyond the observed data. Example (descriptive): For a sales dataset of 12 months, descriptive statistics would report the average monthly sales, the month with maximum sales, and variability (standard deviation). This is a complete summary of the observed period. Inferential statistics, by contrast, use sample data to make generalizations or decisions about a larger population. Inferential techniques quantify sampling uncertainty (via standard errors and confidence intervals) and test hypotheses about population parameters using p-values. Common tools include confidence intervals, t-tests, chi-square tests, regression analysis, and ANOVA. These methods require assumptions (e.g., independence, distributional form) and explicitly account for sampling error. Example (inferential): Suppose you cannot survey every customer; you sample n=100 customers and estimate the population mean satisfaction. A 95% confidence interval for the\n",
    "population mean uses the sample mean and sample standard error: x■ ± t\t·(s/√n). If x■=50, s=10, n=25, n−1,0.975 then CI ≈ 50 ± 1.96*(10/5) = 50 ± 3.92 → (46.08, 53.92) (z-approximation used for illustration). Summary: Use descriptive statistics to summarize observed data and inferential statistics to draw conclusions about a population from a sample.\n"
   ]
  },
  {
   "cell_type": "markdown",
   "id": "3af282ac-1920-4093-ae3c-ee7eb63d6d5b",
   "metadata": {},
   "source": [
    "---"
   ]
  },
  {
   "cell_type": "markdown",
   "id": "9f26b124-2208-4201-a9f8-2ea75f9b50b6",
   "metadata": {},
   "source": [
    "### Question 2: What is sampling in statistics? Explain the differences between random and stratified sampling.\n",
    "Answer:\n",
    "Sampling is the process of selecting a subset of units (a sample) from a larger set (the population) with the aim of estimating characteristics of that population. A good sample should be representative so that inferences about the population are valid. Random sampling (Simple Random Sampling - SRS): Every element of the population has an equal probability of selection. This method minimizes selection bias and simplifies statistical analysis. However, in heterogeneous populations SRS can by chance underrepresent important subgroups. Variance of estimates can be estimated easily (e.g., Var(x■) = σ²/n for independent observations). Stratified sampling: The population is first divided into strata (homogeneous subgroups) based on key characteristics (e.g., age, region). Samples are then drawn from each stratum, either proportionally or by other allocation (e.g., Neyman allocation). Stratification reduces sampling variance when stratum means differ substantially and guarantees representation of important subgroups. Formulas / Notes: If population is split into H strata with sizes N_h and sample sizes n_h, the stratified estimator for the population mean is: \\bar{x}_{strat} = \\sum_{h=1}^H \\frac{N_h}{N} \\bar{x}_h, where \\bar{x}_h is the sample mean in stratum h. Example: In a university with 60% undergrads and 40% postgrads, stratified sampling ensures both groups are represented according to their proportions; SRS might by chance pick few postgrads and produce biased estimates for postgraduate parameters. When to use: Use SRS for simplicity and when population is homogeneous; use stratified sampling when population is heterogeneous and you want precise subgroup estimates.\n"
   ]
  },
  {
   "cell_type": "markdown",
   "id": "116e6a18-0c57-4ace-875c-61d62229e330",
   "metadata": {},
   "source": [
    "---"
   ]
  },
  {
   "cell_type": "markdown",
   "id": "9d021fa9-cb13-4c7f-a4f1-ddc6c3c57b3b",
   "metadata": {},
   "source": [
    "### Question 3: Define mean, median, and mode. Explain why these measures of central tendency are important.\n",
    "Answer:\n",
    "Mean (arithmetic mean): For n observations x■,...,x_n, the sample mean is \\bar{x} = (1/n)∑_{i=1}^n x_i. It summarizes the central location of numeric data and is convenient for algebraic manipulation (e.g., variance decomposition). The mean is sensitive to extreme values (outliers). Median: The median is the middle value when observations are ordered. For odd n it is the ((n+1)/2)-th value; for even n it is the average of the two middle values. The median is robust to outliers and is a better central measure for skewed distributions. Mode: The mode is the most frequently occurring value(s) in the dataset. For continuous data the mode may be less informative, but for categorical or discrete data it identifies the most common category or value. Importance: These measures together give a fuller picture: mean for algebraic summaries and inference, median for robustness to outliers, and mode for the most common value. Example: Data: [2,3,3,4,100] → mean = 22.4 (inflated by 100), median = 3, mode = 3. Here median and mode better represent the 'typical' observation.\n"
   ]
  },
  {
   "cell_type": "markdown",
   "id": "61b72ee3-c824-4817-9a1b-47e58c1ca0c9",
   "metadata": {},
   "source": [
    "---"
   ]
  },
  {
   "cell_type": "markdown",
   "id": "b0cfa176-7dff-44a6-87d5-13944b2a2e5f",
   "metadata": {},
   "source": [
    "### Question 4: Explain skewness and kurtosis. What does a positive skew imply about the data?\n",
    "Answer:\n",
    "Skewness measures asymmetry in a distribution. The theoretical (moment) skewness is γ■ = E[(X−µ)³]/σ³. A positive skew implies a longer right tail (a few large values) and typically mean > median. A negative skew implies a longer left tail and mean < median. Sample skew can be estimated using corrected moment formulas to reduce bias. Kurtosis measures tail-heaviness (peakedness). The fourth standardized moment is β■ = E[(X−µ)■]/σ■. Often we report excess kurtosis = β■ − 3, where 0 corresponds to normal distribution. Positive excess kurtosis (leptokurtic) indicates heavy tails and more frequent extreme values; negative (platykurtic) indicates lighter tails. Positive skew implication: If data show positive skew, most observations are concentrated on the lower side with a long tail to the right. For such data, median is often a better measure of central tendency than the mean, and transforming the data (e.g., log transform) or using robust statistics may be recommended. Example: Household income distribution is usually positively skewed: many households earn moderate amounts, a few earn very high incomes, pulling the mean upward.\n"
   ]
  },
  {
   "cell_type": "markdown",
   "id": "32847b99-d9a9-4f68-816d-157e844082a8",
   "metadata": {},
   "source": [
    "---"
   ]
  },
  {
   "cell_type": "markdown",
   "id": "700564b0-f19e-43ae-b7fc-e01e05824ab6",
   "metadata": {},
   "source": [
    "### Question 5: Implement a Python program to compute the mean, median, and mode of a given list of numbers. numbers = [12, 15, 12, 18, 19, 12, 20, 22, 19, 19, 24, 24, 24, 26, 28] (Include your Python code and output in the code box below.)\n",
    "Answer:\n",
    "Below is a Python implementation to compute mean, median and mode for the provided list. After running the code we include the numeric results and a step-by-step interpretation. Interpretation of results: The mean (19.6) is the arithmetic average; the median (19) is the middle value when the list is ordered. The dataset is multimodal because the values 12, 19 and 24 each appear three times; this indicates multiple peaks in the frequency distribution. When the data are multimodal, reporting all modes is important because a single-mode summary would be misleading.\n"
   ]
  },
  {
   "cell_type": "code",
   "execution_count": 2,
   "id": "421be638-c204-4841-9ae6-2a1760ef5e3d",
   "metadata": {},
   "outputs": [
    {
     "name": "stdout",
     "output_type": "stream",
     "text": [
      "Mean = 19.6\n",
      "Median = 19\n",
      "Mode(s) = [12, 19, 24]\n"
     ]
    }
   ],
   "source": [
    "numbers = [12, 15, 12, 18, 19, 12, 20, 22, 19, 19, 24, 24, 24, 26, 28]\n",
    "import statistics \n",
    "mean_val = statistics.mean(numbers) \n",
    "median_val = statistics.median(numbers) \n",
    "modes = statistics.multimode(numbers) \n",
    "print('Mean =', mean_val) \n",
    "print('Median =', median_val) \n",
    "print('Mode(s) =', modes)"
   ]
  },
  {
   "cell_type": "markdown",
   "id": "d465156a-cf52-475c-aa70-3038f69af09f",
   "metadata": {},
   "source": [
    "---"
   ]
  },
  {
   "cell_type": "markdown",
   "id": "0aa1ad09-1368-4736-83cb-26b5709bda2c",
   "metadata": {},
   "source": [
    "### Question 6: Compute the covariance and correlation coefficient between the following two datasets provided as lists in Python: list_x = [10, 20, 30, 40, 50] list_y = [15, 25, 35, 45, 60] (Include your Python code and output in the code box below.)\n",
    "Answer:\n",
    "We compute both covariance and Pearson correlation. Covariance measures how two variables change together (units preserved), but its magnitude depends on units. The sample covariance matrix and population covariance matrix are shown below. Pearson correlation (r) standardizes covariance to lie in [−1,1], indicating direction and strength. Interpretation: A Pearson r close to +1 indicates a very strong positive linear relationship. We also report the p-value for Pearson's test to indicate whether the observed correlation is statistically significant (small p-value → reject null of no correlation).\n"
   ]
  },
  {
   "cell_type": "code",
   "execution_count": 3,
   "id": "5d34d271-603e-4fc7-8292-d01b76d0b7aa",
   "metadata": {},
   "outputs": [
    {
     "name": "stdout",
     "output_type": "stream",
     "text": [
      "Sample covariance matrix:\n",
      " [[250. 275.]\n",
      " [275. 305.]]\n",
      "\n",
      "Population covariance matrix:\n",
      " [[200. 220.]\n",
      " [220. 244.]]\n",
      "\n",
      "Pearson r = 0.9958932064677037 p-value = 0.0003157333424172071\n"
     ]
    }
   ],
   "source": [
    "list_x = [10,20,30,40,50] \n",
    "list_y = [15,25,35,45,60] \n",
    "import numpy as np \n",
    "cov_sample = np.cov(list_x, list_y, ddof=1) \n",
    "cov_population = np.cov(list_x, list_y, ddof=0) \n",
    "import scipy.stats as stats \n",
    "r, pval = stats.pearsonr(list_x, list_y) \n",
    "print('Sample covariance matrix:\\n', cov_sample) \n",
    "print('\\nPopulation covariance matrix:\\n', cov_population) \n",
    "print('\\nPearson r =', r, 'p-value =', pval)"
   ]
  },
  {
   "cell_type": "markdown",
   "id": "d41952ef-141b-46c1-8e32-2f655aedda06",
   "metadata": {},
   "source": [
    "---"
   ]
  },
  {
   "cell_type": "markdown",
   "id": "0342b47a-0287-4449-bab8-3a6dc3a46f57",
   "metadata": {},
   "source": [
    "### Question 7: Write a Python script to draw a boxplot for the following numeric list and identify its outliers. Explain the result: data = [12, 14, 14, 15, 18, 19, 19, 21, 22, 22, 23, 23, 24, 26, 29, 35] (Include your Python code and output in the code box below.)\n",
    "Answer:\n",
    "We draw a boxplot and identify outliers using Tukey's IQR rule (points beyond Q1 − 1.5·IQR and Q3 + 1.5·IQR). The printed numeric results show quartiles, fences, and the list of outliers. The plot is embedded below to visually confirm the outlier positions. Interpretation: The value(s) outside the fences are flagged as outliers and should be investigated (data-entry errors, true extreme values, or a separate subgroup).\n"
   ]
  },
  {
   "cell_type": "code",
   "execution_count": 5,
   "id": "2397ffc8-6834-4270-a82c-d5a39995ae62",
   "metadata": {},
   "outputs": [
    {
     "name": "stdout",
     "output_type": "stream",
     "text": [
      "Q1 = 17.25 Q3 = 23.25 IQR = 6.0\n",
      "Lower fence = 8.25 Upper fence = 32.25\n",
      "Outliers = [35]\n"
     ]
    }
   ],
   "source": [
    "data = [12,14,14,15,18,19,19,21,22,22,23,23,24,26,29,35] \n",
    "import numpy as np \n",
    "q1 = np.percentile(data,25)\n",
    "q3 = np.percentile(data,75) \n",
    "iqr = q3 - q1 \n",
    "lower = q1 - 1.5*iqr; \n",
    "upper = q3 + 1.5*iqr \n",
    "outliers = [x for x in data if x<lower or x>upper] \n",
    "print('Q1 =',q1,'Q3 =',q3,'IQR =',iqr) \n",
    "print('Lower fence =',lower,'Upper fence =',upper) \n",
    "print('Outliers =',outliers)"
   ]
  },
  {
   "cell_type": "code",
   "execution_count": 8,
   "id": "e40b3097-61be-436b-a7c8-0edb22fd95d7",
   "metadata": {},
   "outputs": [
    {
     "data": {
      "image/png": "[encoded data removed]",
      "text/plain": [
       "<Figure size 800x400 with 1 Axes>"
      ]
     },
     "metadata": {},
     "output_type": "display_data"
    }
   ],
   "source": [
    "import matplotlib.pyplot as plt\n",
    "import numpy as np\n",
    "\n",
    "# Data from the question \n",
    "data = [12, 14, 14, 15, 18, 19, 19, 21, 22, 22, 23, 23, 24, 26, 29, 35]\n",
    "\n",
    "# Create the boxplot\n",
    "plt.figure(figsize=(8, 4)) # Optional: Adjusts the figure size\n",
    "plt.boxplot(data, vert=False) # vert=False makes the boxplot horizontal like in the image\n",
    "\n",
    "# Add title and labels for clarity\n",
    "plt.title('Boxplot')\n",
    "plt.xlabel('Value')\n",
    "plt.yticks([1], ['']) # Hides the '1' on the y-axis to match the example\n",
    "\n",
    "# Add a grid\n",
    "plt.grid(True, linestyle='--', alpha=0.6)\n",
    "\n",
    "# Display the plot\n",
    "plt.show()"
   ]
  },
  {
   "cell_type": "markdown",
   "id": "feedaf48-f2a6-4515-b15e-e46e8bf91844",
   "metadata": {},
   "source": [
    "---"
   ]
  },
  {
   "cell_type": "markdown",
   "id": "f8c38bd8-b799-4759-9fe0-f23239ae3ff3",
   "metadata": {},
   "source": [
    "### Question 8: You are working as a data analyst in an e-commerce company. The marketing team wants to know if there is a relationship between advertising spend and daily sales. ● Explain how you would use covariance and correlation to explore this relationship. ● Write Python code to compute the correlation between the two lists: advertising_spend = [200, 250, 300, 400, 500] daily_sales = [2200, 2450, 2750, 3200, 4000] (Include your Python code and output in the code box below.)\n",
    "Answer:\n",
    "To explore the relationship between advertising spend and daily sales, compute covariance to see the direction of co-movement and Pearson correlation to quantify strength. If correlation is strong, fit a linear regression model to estimate the expected increase in sales per unit of ad spend (slope) and assess goodness-of-fit (R²). However, correlation does not imply causation: control variables or experiments (A/B testing) are needed for causal claims. Interpretation: The results include Pearson r and the fitted regression equation, showing how much daily sales increase per rupee (or unit) of ad spend in the sample.\n"
   ]
  },
  {
   "cell_type": "code",
   "execution_count": 6,
   "id": "8b8a3870-3b79-4a1e-bafd-cc8f605fef61",
   "metadata": {},
   "outputs": [
    {
     "name": "stdout",
     "output_type": "stream",
     "text": [
      "Pearson r = 0.9935824101653328 p-value = 0.0006165570704987916\n",
      "Regression: sales = 5.853448275862069 * ad_spend + 988.3620689655172\n",
      "R-squared = 0.9872060057899515\n"
     ]
    }
   ],
   "source": [
    "advertising_spend = [200,250,300,400,500] \n",
    "daily_sales = [2200,2450,2750,3200,4000] \n",
    "import scipy.stats as stats \n",
    "r, pval = stats.pearsonr(advertising_spend, daily_sales) \n",
    "slope, intercept, r_value, p_value_reg, std_err = stats.linregress(advertising_spend, daily_sales) \n",
    "print('Pearson r =', r, 'p-value =', pval) \n",
    "print('Regression: sales =', slope, '* ad_spend +', intercept) \n",
    "print('R-squared =', r_value**2)"
   ]
  },
  {
   "cell_type": "markdown",
   "id": "25792f07-8aa8-47a9-bee0-72f5cc7c3a5d",
   "metadata": {},
   "source": [
    "---"
   ]
  },
  {
   "cell_type": "markdown",
   "id": "a9d14583-e58b-48b2-96a4-0590eb319b8e",
   "metadata": {},
   "source": [
    "### Question 9: Your team has collected customer satisfaction survey data on a scale of 1-10 and wants to understand its distribution before launching a new product. ● Explain which summary statistics and visualizations (e.g. mean, standard deviation, histogram) you’d use. ● Write Python code to create a histogram using Matplotlib for the survey data: survey_scores = [7, 8, 5, 9, 6, 7, 8, 9, 10, 4, 7, 6, 9, 8, 7] (Include your Python code and output in the code box below.)\n",
    "Answer:\n",
    "Before launching a product, summarise survey scores using mean, median, mode, standard deviation, skewness, and kurtosis. Visualize the distribution with histogram and boxplot. Skewness tells if distribution is symmetric; kurtosis indicates tail heaviness (risk of extreme responses). For Likert-like data, also consider frequency tables per score. Interpretation: The numeric summary and histogram below help decide whether central tendency is high and whether there are many low scores that require attention.\n"
   ]
  },
  {
   "cell_type": "code",
   "execution_count": 11,
   "id": "9917d8a6-9b03-4f9b-b50e-6b4793181e66",
   "metadata": {},
   "outputs": [
    {
     "name": "stdout",
     "output_type": "stream",
     "text": [
      "Count= 15\n",
      "Mean= 7.333333333333333\n",
      "Median= 7.0\n",
      "Mode= [7]\n",
      "Std dev= 1.632993161855452\n",
      "Skewness= -0.3953503362321744\n",
      "Excess kurtosis= -0.15659340659340737\n"
     ]
    },
    {
     "data": {
      "image/png": "[encoded data removed]",
      "text/plain": [
       "<Figure size 640x480 with 1 Axes>"
      ]
     },
     "metadata": {},
     "output_type": "display_data"
    }
   ],
   "source": [
    "survey_scores = [7,8,5,9,6,7,8,9,10,4,7,6,9,8,7] \n",
    "import pandas as pd \n",
    "s = pd.Series(survey_scores) \n",
    "print('Count=', s.count()) \n",
    "print('Mean=', s.mean()) \n",
    "print('Median=', s.median()) \n",
    "print('Mode=', s.mode().tolist()) \n",
    "print('Std dev=', s.std()) \n",
    "print('Skewness=', s.skew()) \n",
    "print('Excess kurtosis=', s.kurtosis()) \n",
    "import matplotlib.pyplot as plt \n",
    "plt.hist(survey_scores, bins=range(3,12)) \n",
    "plt.title('Histogram of survey scores') \n",
    "plt.show()"
   ]
  },
  {
   "cell_type": "markdown",
   "id": "080012be-93c4-4439-9db6-2d80a243f503",
   "metadata": {},
   "source": [
    "---"
   ]
  },
  {
   "cell_type": "code",
   "execution_count": null,
   "id": "243bb5fe-25a4-402c-a7c5-f6477bcf6347",
   "metadata": {},
   "outputs": [],
   "source": []
  }
 ],
 "metadata": {
  "kernelspec": {
   "display_name": "Python 3 (ipykernel)",
   "language": "python",
   "name": "python3"
  },
  "language_info": {
   "codemirror_mode": {
    "name": "ipython",
    "version": 3
   },
   "file_extension": ".py",
   "mimetype": "text/x-python",
   "name": "python",
   "nbconvert_exporter": "python",
   "pygments_lexer": "ipython3",
   "version": "3.12.4"
  }
 },
 "nbformat": 4,
 "nbformat_minor": 5
}
