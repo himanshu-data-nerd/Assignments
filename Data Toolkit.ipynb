{
 "cells": [
  {
   "cell_type": "markdown",
   "id": "d91d8ac3-ec37-4eb4-ae71-901302f55ef7",
   "metadata": {},
   "source": [
    "### Q1. What is NumPy, and why is it widely used in Python?\n",
    "\n",
    "**NumPy** (Numerical Python) is a fundamental library for scientific computing in Python. It provides support for large, multi-dimensional arrays and matrices, along with a collection of high-level mathematical functions to operate on these arrays efficiently.\n",
    "\n",
    "It is widely used for several key reasons:\n",
    "* **Performance:** NumPy operations are implemented in C and Fortran, making them much faster than equivalent operations on standard Python lists.\n",
    "* **`ndarray` Object:** Its core feature is the powerful N-dimensional array object, which is a fast and flexible container for large datasets.\n",
    "* **Vectorized Operations:** It allows for \"vectorized\" operations that apply an operation to an entire array at once, leading to concise and readable code.\n",
    "* **Ecosystem Integration:** It is the foundational library for the scientific Python ecosystem, and countless other libraries (like Pandas, SciPy, and Scikit-learn) are built on top of it.\n",
    "\n",
    "---"
   ]
  },
  {
   "cell_type": "markdown",
   "id": "021aceb4-50a4-4442-bb71-bf1f14413387",
   "metadata": {},
   "source": [
    "### Q2. How does broadcasting work in NumPy?\n",
    "\n",
    "**Broadcasting** is a powerful mechanism in NumPy that allows it to perform arithmetic operations on arrays of different shapes. When operating on two arrays, NumPy compares their shapes element-wise. It starts with the trailing (rightmost) dimensions and works its way left. Two dimensions are compatible when:\n",
    "1.  They are equal, or\n",
    "2.  One of them is 1.\n",
    "\n",
    "If these conditions are not met, a `ValueError` is raised. When one of the dimensions is 1, the smaller array is \"broadcast\" across the larger array so they have compatible shapes."
   ]
  },
  {
   "cell_type": "code",
   "execution_count": 2,
   "id": "3a7daf88-b3db-41cf-9c0f-fa51690e65e2",
   "metadata": {},
   "outputs": [
    {
     "name": "stdout",
     "output_type": "stream",
     "text": [
      "Array a:\n",
      " [[1 2 3]\n",
      " [4 5 6]\n",
      " [7 8 9]]\n",
      "\n",
      "Array b:\n",
      " [10 20 30]\n",
      "\n",
      "Result of a + b:\n",
      " [[11 22 33]\n",
      " [14 25 36]\n",
      " [17 28 39]]\n"
     ]
    }
   ],
   "source": [
    "import numpy as np\n",
    "\n",
    "# Create a 2D array (3x3)\n",
    "a = np.array([[1, 2, 3],\n",
    "              [4, 5, 6],\n",
    "              [7, 8, 9]])\n",
    "\n",
    "# Create a 1D array (1x3)\n",
    "b = np.array([10, 20, 30])\n",
    "\n",
    "# Broadcast 'b' across each row of 'a' and add them\n",
    "# The shape of b (3,) is stretched to (3, 3) to match a\n",
    "result = a + b\n",
    "\n",
    "print(\"Array a:\\n\", a)\n",
    "print(\"\\nArray b:\\n\", b)\n",
    "print(\"\\nResult of a + b:\\n\", result)"
   ]
  },
  {
   "cell_type": "markdown",
   "id": "c13120c7-1356-40d7-ba60-7ca9065d8d16",
   "metadata": {},
   "source": [
    "---"
   ]
  },
  {
   "cell_type": "markdown",
   "id": "24710d18-8dd7-4c43-9a93-433c02dc556b",
   "metadata": {},
   "source": [
    "### Q3. What is a Pandas DataFrame?\n",
    "\n",
    "A **Pandas DataFrame** is a two-dimensional, size-mutable, and heterogeneous tabular data structure with labeled axes (rows and columns). You can think of it as a spreadsheet, a SQL table, or a dictionary of Series objects. It is the primary data structure in the Pandas library.\n",
    "\n",
    "Key features include:\n",
    "* Columns can be of different data types (integer, float, string, etc.).\n",
    "* Rows and columns are both labeled, which can be accessed by their labels (index and column names).\n",
    "* It is capable of handling large amounts of data efficiently and provides a wide range of functions for data manipulation, cleaning, and analysis.\n",
    "\n",
    "---"
   ]
  },
  {
   "cell_type": "markdown",
   "id": "73ac6ada-609a-4f90-acfe-1d19f8051b9a",
   "metadata": {},
   "source": [
    "### Q4. Explain the use of the groupby() method in Pandas.\n",
    "\n",
    "The `groupby()` method in Pandas is used for splitting a DataFrame into groups based on some criteria. Once the groups are formed, you can apply a function (like `sum`, `mean`, `count`, etc.) to each \n",
    "\n",
    "group independently. This \"split-apply-combine\" process is a cornerstone of data analysis.\n",
    "\n",
    "The process involves:\n",
    "1.  **Splitting:** The data is split into groups based on the values in one or more columns.\n",
    "2.  **Applying:** A function is applied to each group. This is often an aggregation function that summarizes the data in each group.\n",
    "3.  **Combining:** The results of the function application are combined into a new data structure (usually a DataFrame or Series)."
   ]
  },
  {
   "cell_type": "code",
   "execution_count": 3,
   "id": "ce04f770-dc75-413f-9f04-52fff1f5f78d",
   "metadata": {},
   "outputs": [
    {
     "name": "stdout",
     "output_type": "stream",
     "text": [
      "Category\n",
      "A    30.0\n",
      "B    30.0\n",
      "Name: Value, dtype: float64\n"
     ]
    }
   ],
   "source": [
    "import pandas as pd\n",
    "\n",
    "# Sample DataFrame\n",
    "data = {'Category': ['A', 'B', 'A', 'B', 'A'],\n",
    "        'Value': [10, 20, 30, 40, 50]}\n",
    "df = pd.DataFrame(data)\n",
    "\n",
    "# Group by 'Category' and calculate the mean of 'Value' for each group\n",
    "grouped_mean = df.groupby('Category')['Value'].mean()\n",
    "\n",
    "print(grouped_mean)"
   ]
  },
  {
   "cell_type": "markdown",
   "id": "59e3aa64-64c9-4a1f-9b0b-37fb3235f50b",
   "metadata": {},
   "source": [
    "---"
   ]
  },
  {
   "cell_type": "markdown",
   "id": "2453b139-e4a6-4ae5-aa55-4c94572c6949",
   "metadata": {},
   "source": [
    "### Q5. Why is Seaborn preferred for statistical visualizations?\n",
    "\n",
    "**Seaborn** is a Python data visualization library based on Matplotlib. It is often preferred for statistical visualizations because it provides a high-level interface for drawing attractive and informative statistical graphics.\n",
    "\n",
    "Key advantages include:\n",
    "* **High-Level API:** It has simpler syntax for creating complex plots like heatmaps, pair plots, and violin plots, which would require more code in Matplotlib.\n",
    "* **Aesthetically Pleasing Defaults:** Seaborn comes with a number of built-in themes and color palettes that make visualizations look more professional and visually appealing out of the box.\n",
    "* **Integration with Pandas:** It works seamlessly with Pandas DataFrames, making it easy to plot data directly from your data analysis workflow.\n",
    "* **Statistical Focus:** It is specifically designed to work well with statistical data and can automatically perform necessary statistical estimations and aggregations to produce informative plots.\n",
    "\n",
    "---"
   ]
  },
  {
   "cell_type": "markdown",
   "id": "89d4795e-1523-4e42-9cb3-8bea13cb1330",
   "metadata": {},
   "source": [
    "### Q6. What are the differences between NumPy arrays and Python lists?\n",
    "\n",
    "| Feature | NumPy Array (`ndarray`) | Python List |\n",
    "| :--- | :--- | :--- |\n",
    "| **Data Type** | **Homogeneous:** All elements must be of the same data type. | **Heterogeneous:** Can contain elements of different data types. |\n",
    "| **Performance** | **Faster** due to contiguous memory storage and optimized C-based operations. | **Slower** for numerical operations due to overhead and scattered memory. |\n",
    "| **Memory Usage** | **More memory-efficient** for a given number of elements. | **Less memory-efficient** as each element is a separate Python object. |\n",
    "| **Functionality**| Supports **vectorized operations**, making code for mathematical operations concise and fast. | Operations require explicit loops, which are slower and more verbose. |\n",
    "| **Use Case** | Ideal for **numerical computations**, scientific computing, and large datasets. | A general-purpose data structure for storing collections of items. |\n",
    "\n",
    "---"
   ]
  },
  {
   "cell_type": "markdown",
   "id": "46ce0c71-6f89-41f3-9f92-64e1363538cd",
   "metadata": {},
   "source": [
    "### Q7. What is a heatmap, and when should it be used?\n",
    "\n",
    "A **heatmap** is a graphical representation of data where individual values contained in a matrix are represented as colors. It's a 2D visualization that uses a color scale to show the magnitude of a phenomenon.\n",
    "\n",
    "It should be used to:\n",
    "* **Visualize Correlation Matrices:** To quickly see which variables are highly correlated with each other. Warmer colors (e.g., red) might indicate a strong positive correlation, while cooler colors (e.g., blue) indicate a strong negative correlation.\n",
    "* **Show Feature Importance:** In machine learning, to visualize the importance or relationship between different features.\n",
    "* **Display Patterns in Large Datasets:** To identify patterns, clusters, and outliers in large matrices of data, such as user activity on a website or gene expression data.\n",
    "\n",
    "---"
   ]
  },
  {
   "cell_type": "markdown",
   "id": "229af716-8221-4115-919b-0a4e12d584fe",
   "metadata": {},
   "source": [
    "### Q8. What does the term \"vectorized operation\" mean in NumPy?\n",
    "\n",
    "A **vectorized operation** in NumPy refers to performing operations on entire arrays of data at once, without the need for explicit Python loops. Instead of iterating over each element one by one, a single statement can apply an operation to all elements.\n",
    "\n",
    "This is possible because NumPy's underlying code is written in C, which can execute these operations much faster. This leads to code that is:\n",
    "* **More Concise:** `c = a + b` is much cleaner than a `for` loop.\n",
    "* **More Readable:** The intent of the operation is clearer.\n",
    "* **Much Faster:** It avoids the overhead of Python's interpreted loops and leverages optimized, pre-compiled C code."
   ]
  },
  {
   "cell_type": "code",
   "execution_count": 5,
   "id": "1689cda3-abcc-4219-aec7-6b86d905a3dc",
   "metadata": {},
   "outputs": [
    {
     "name": "stdout",
     "output_type": "stream",
     "text": [
      "Non-vectorized result: [5, 7, 9]\n",
      "Vectorized result:     [5 7 9]\n"
     ]
    }
   ],
   "source": [
    "# Non-vectorized (using Python lists)\n",
    "a = [1, 2, 3]\n",
    "b = [4, 5, 6]\n",
    "c = []\n",
    "for i in range(len(a)):\n",
    "    c.append(a[i] + b[i])\n",
    "\n",
    "# Vectorized (using NumPy arrays)\n",
    "import numpy as np\n",
    "a_np = np.array([1, 2, 3])\n",
    "b_np = np.array([4, 5, 6])\n",
    "c_np = a_np + b_np # Single vectorized operation\n",
    "\n",
    "print(\"Non-vectorized result:\", c)\n",
    "print(\"Vectorized result:    \", c_np)"
   ]
  },
  {
   "cell_type": "markdown",
   "id": "7f5f0a33-8bea-4051-a45c-6b63a9d7d4ea",
   "metadata": {},
   "source": [
    "---"
   ]
  },
  {
   "cell_type": "markdown",
   "id": "c1bb69e8-6794-4bc0-9b86-0025c9f76872",
   "metadata": {},
   "source": [
    "### Q9. How does Matplotlib differ from Plotly?\n",
    "\n",
    "| Feature | Matplotlib | Plotly |\n",
    "| :--- | :--- | :--- |\n",
    "| **Interactivity** | Primarily creates **static** images (e.g., PNG, JPG, PDF). | Creates fully **interactive** HTML-based visualizations. You can zoom, pan, and hover over data points to see more information. |\n",
    "| **Output Format** | Static image files. | Interactive HTML files, can be embedded in websites and notebooks. |\n",
    "| **Ease of Use** | Can be more complex and verbose for creating aesthetically pleasing or advanced plots. | Often has a more modern and higher-level API (Plotly Express) that makes creating beautiful, complex plots easier. |\n",
    "| **Use Case** | Excellent for quick data exploration, scientific publications, and generating static reports. | Ideal for creating interactive dashboards, web applications, and presentations where user engagement is key. |\n",
    "| **3D Plotting** | Has basic 3D plotting capabilities. | Offers more powerful and interactive 3D plotting. |\n",
    "\n",
    "---"
   ]
  },
  {
   "cell_type": "markdown",
   "id": "fb2b8ee8-fc1d-4dcb-8582-8910e7681661",
   "metadata": {},
   "source": [
    "### Q10. What is the significance of hierarchical indexing in Pandas?\n",
    "\n",
    "**Hierarchical indexing** (or MultiIndex) in Pandas is significant because it allows you to have multiple index levels on a single axis. This provides a way to work with higher-dimensional data in a lower-dimensional form like a Series (1D) or DataFrame (2D).\n",
    "\n",
    "Its key benefits are:\n",
    "* **Representing Higher-Dimensional Data:** It allows you to store and manipulate data with an arbitrary number of dimensions in a 2D DataFrame. For example, you can have an index with \"State\" and \"City\" levels to analyze data by both.\n",
    "* **Advanced Slicing and Dicing:** It makes it easier to select subsets of your data. You can select all data for a specific level of the index concisely.\n",
    "* **Efficient Grouping and Analysis:** Operations like `groupby()` become more intuitive and powerful, as you can group by levels of the index directly.\n",
    "\n",
    "---"
   ]
  },
  {
   "cell_type": "markdown",
   "id": "f2afbc8f-18a6-4c34-8604-d8db921e5dfe",
   "metadata": {},
   "source": [
    "### Q11. What is the role of Seaborn's pairplot() function?\n",
    "\n",
    "The `pairplot()` function in Seaborn is used to create a grid of axes such that each numerical variable in the dataset is shared across the y-axes in a single row and the x-axes in a single column.\n",
    "\n",
    "Its primary roles are:\n",
    "* **Relationship Visualization:** It plots pairwise relationships between all numerical variables in a dataset. The diagonal plots are histograms or kernel density plots showing the distribution of each variable, while the off-diagonal plots are scatter plots showing the relationship between pairs of variables.\n",
    "* **Quick Exploratory Analysis:** It provides a quick and comprehensive overview of the relationships and distributions within a dataset, making it an essential tool in the initial stages of exploratory data analysis (EDA).\n",
    "\n",
    "---"
   ]
  },
  {
   "cell_type": "markdown",
   "id": "40a19b04-c0c3-4f46-b475-2191bff98d3c",
   "metadata": {},
   "source": [
    "### Q12. What is the purpose of the describe() function in Pandas?\n",
    "\n",
    "The `describe()` function in Pandas is used to generate descriptive statistics that summarize the central tendency, dispersion, and shape of a dataset's distribution.\n",
    "\n",
    "For numerical columns, it returns:\n",
    "* **count:** The number of non-null entries.\n",
    "* **mean:** The average of the values.\n",
    "* **std:** The standard deviation.\n",
    "* **min:** The minimum value.\n",
    "* **25%:** The 25th percentile (1st quartile).\n",
    "* **50%:** The 50th percentile (median).\n",
    "* **75%:** The 75th percentile (3rd quartile).\n",
    "* **max:** The maximum value.\n",
    "\n",
    "It is a quick and convenient way to get a high-level statistical summary of the numerical columns in a DataFrame.\n",
    "\n",
    "---"
   ]
  },
  {
   "cell_type": "markdown",
   "id": "f6449d13-d9cd-43e5-b2cf-ddeaf49896be",
   "metadata": {},
   "source": [
    "### Q13. Why is handling missing data important in Pandas?\n",
    "\n",
    "Handling missing data (often represented as `NaN`, `None`, or `NaT`) is critically important for several reasons:\n",
    "* **Algorithm Compatibility:** Many machine learning algorithms cannot handle missing values and will raise an error if they are present in the input data.\n",
    "* **Biased Results:** If missing values are not handled correctly, they can lead to skewed or biased statistical analyses (e.g., calculating a mean or sum). Ignoring them can lead to incorrect conclusions.\n",
    "* **Data Integrity:** Missing data can indicate problems with data collection or entry. Identifying and handling them is a key step in data cleaning and ensuring the quality of your dataset.\n",
    "* **Reduced Statistical Power:** A large number of missing values can reduce the size of the dataset available for analysis, which can weaken the statistical power of your models and tests.\n",
    "\n",
    "Pandas provides various methods to handle missing data, such as `dropna()`, `fillna()`, and `interpolate()`.\n",
    "\n",
    "---"
   ]
  },
  {
   "cell_type": "markdown",
   "id": "d2276d43-8932-42ea-9ee2-0ef92c253bc3",
   "metadata": {},
   "source": [
    "### Q14. What are the benefits of using Plotly for data visualization?\n",
    "\n",
    "The main benefits of using Plotly are:\n",
    "* **Interactivity:** Plotly creates rich, interactive visualizations that allow users to explore the data by hovering, zooming, panning, and filtering directly in the plot.\n",
    "* **Web-Native:** The plots are built using web standards (HTML, JavaScript, CSS), making them easy to embed in websites, dashboards (like Dash), and online reports.\n",
    "* **High-Quality Aesthetics:** It produces modern, publication-quality graphics with a high degree of customizability.\n",
    "* **Versatility:** It supports a wide range of chart types, including 3D plots, financial charts, and scientific charts, that are inherently interactive.\n",
    "* **Plotly Express:** The `plotly.express` module is a high-level API that makes creating complex and attractive charts with very little code incredibly simple.\n",
    "\n",
    "---"
   ]
  },
  {
   "cell_type": "markdown",
   "id": "d6cdef55-65ae-4985-936b-a254e88b4d14",
   "metadata": {},
   "source": [
    "### Q15. How does NumPy handle multidimensional arrays?\n",
    "\n",
    "NumPy's core object, the `ndarray`, is designed to handle multidimensional arrays efficiently. It does this through a few key mechanisms:\n",
    "* **Shape and Strides:** An `ndarray` is essentially a block of contiguous memory. NumPy keeps track of the array's metadata, including its `shape` (a tuple representing the size of each dimension) and `strides` (a tuple of integers indicating the number of bytes to step in each dimension to move to the next element). This allows NumPy to interpret the single block of memory as a multi-dimensional grid without making copies.\n",
    "* **Indexing and Slicing:** It provides a rich and powerful syntax for indexing and slicing across multiple dimensions, allowing for easy access to and modification of subsections of the array.\n",
    "* **Axis-Based Operations:** Most NumPy functions can operate along a specified axis (dimension). For example, `arr.sum(axis=0)` will sum the elements along the first dimension (down the columns), and `arr.sum(axis=1)` will sum along the second dimension (across the rows).\n",
    "\n",
    "---"
   ]
  },
  {
   "cell_type": "markdown",
   "id": "f474d009-cf7d-4e65-8c22-28b1122e5333",
   "metadata": {},
   "source": [
    "### Q16. What is the role of Bokeh in data visualization?\n",
    "\n",
    "**Bokeh** is a Python interactive visualization library that targets modern web browsers for its presentation. Its primary role is to create interactive plots, dashboards, and data applications.\n",
    "\n",
    "Key features and roles include:\n",
    "* **Interactive Visualizations:** Like Plotly, Bokeh is designed for interactivity, including tools for panning, zooming, and selecting data points.\n",
    "* **Streaming Data:** It is particularly well-suited for handling large or streaming datasets, as it can efficiently update plots with new data.\n",
    "* **Bokeh Server:** It includes a powerful server component that allows you to build complex data applications with widgets, callbacks, and user interactions, connecting user actions to Python code running on the server.\n",
    "* **Flexibility:** It offers both a high-level interface for creating charts quickly and a low-level interface for granular control over every aspect of the plot's appearance and behavior.\n",
    "\n",
    "---"
   ]
  },
  {
   "cell_type": "markdown",
   "id": "568e4fdd-7a1a-466a-983d-3ad89f463a65",
   "metadata": {},
   "source": [
    "### Q17. Explain the difference between apply() and map() in Pandas.\n",
    "\n",
    "| Feature | `apply()` | `map()` |\n",
    "| :--- | :--- | :--- |\n",
    "| **Scope** | Works on a **DataFrame** (row-wise or column-wise) or a **Series**. | Works only on a **Series**. |\n",
    "| **Input** | The function passed to `apply()` receives a **Series** (for each column/row) or a **DataFrame** as its argument. | The function passed to `map()` receives each **element** of the Series as its argument. |\n",
    "| **Use Case**| Used for complex operations that need to consider multiple columns at once or apply a function to entire rows/columns. | Used for element-wise transformations on a single Series, often for substituting values based on a dictionary or a simple function. |\n",
    "| **Speed** | Can be slower, especially on DataFrames, as it involves more overhead. | Generally faster for simple element-wise transformations on a Series. |\n",
    "\n",
    "---"
   ]
  },
  {
   "cell_type": "markdown",
   "id": "6e382df1-3238-4977-b122-20afdc61df2e",
   "metadata": {},
   "source": [
    "### Q18. What are some advanced features of NumPy?\n",
    "\n",
    "Beyond basic array creation and arithmetic, some advanced features of NumPy include:\n",
    "* **Broadcasting:** As discussed earlier, a powerful mechanism for operations on arrays of different shapes.\n",
    "* **Fancy Indexing:** Using arrays of indices to access or modify multiple array elements at once.\n",
    "* **Memory Mapping (`memmap`):** Creating arrays directly from files on disk, which allows you to work with datasets larger than your available RAM.\n",
    "* **Universal Functions (ufuncs):** Highly optimized C-coded functions that perform fast element-wise operations on arrays (e.g., `np.add`, `np.sin`).\n",
    "* **Linear Algebra and Fourier Transforms:** Comprehensive modules for advanced mathematical operations (`numpy.linalg`, `numpy.fft`).\n",
    "\n",
    "---"
   ]
  },
  {
   "cell_type": "markdown",
   "id": "5889a3ce-ede3-4e78-b98e-21687668f1f7",
   "metadata": {},
   "source": [
    "### Q19. How does Pandas simplify time series analysis?\n",
    "\n",
    "Pandas was originally developed for financial data analysis, and as a result, it has powerful, built-in capabilities for time series analysis. It simplifies this process through:\n",
    "* **DatetimeIndex:** A specialized index type for handling time-based data, which allows for powerful slicing and selection (e.g., `df['2025-09']` to get all data for September 2025).\n",
    "* **Date Range Generation:** Easily create sequences of dates and times using `pd.date_range()`.\n",
    "* **Resampling:** Easily convert time series data from one frequency to another (e.g., from daily to monthly) using the `resample()` method. This is very useful for aggregation or downsampling.\n",
    "* **Shifting and Lagging:** The `shift()` method makes it easy to compare data points with previous or future data points, which is essential for analyzing trends and seasonality.\n",
    "* **Rolling Windows:** Built-in functions for calculating rolling statistics (like a rolling average) with the `rolling()` method.\n",
    "\n",
    "---"
   ]
  },
  {
   "cell_type": "markdown",
   "id": "f478ffad-af25-4096-9c24-314637af8f0a",
   "metadata": {},
   "source": [
    "### Q20. What is the role of a pivot table in Pandas?\n",
    "\n",
    "A **pivot table** in Pandas is a data summarization tool. It reshapes or transforms data from a \"long\" format to a \"wide\" format to help with analysis. It's similar to pivot tables in spreadsheet software like Excel.\n",
    "\n",
    "Its primary role is to create a new, aggregated view of your data by specifying:\n",
    "* **`index`:** The column whose unique values will become the rows of the new table.\n",
    "* **`columns`:** The column whose unique values will become the columns of the new table.\n",
    "* **`values`:** The column whose values will be aggregated and placed in the cells of the new table.\n",
    "* **`aggfunc`:** The aggregation function to apply (e.g., `sum`, `mean`, `count`).\n",
    "\n",
    "It is extremely useful for summarizing data and exploring the relationships between categorical variables.\n",
    "\n",
    "---"
   ]
  },
  {
   "cell_type": "markdown",
   "id": "a06cd30f-2c46-4d59-a86e-3a63e79039c2",
   "metadata": {},
   "source": [
    "### Q21. Why is NumPy's array slicing faster than Python's list slicing?\n",
    "\n",
    "NumPy's array slicing is faster than Python's list slicing mainly because of how data is stored and handled:\n",
    "* **Views vs. Copies:** When you slice a NumPy array, it returns a **view** of the original array, not a copy. A view is just a new way of looking at the same block of memory. This process is nearly instantaneous because no data is copied. In contrast, slicing a Python list creates a new list, which involves copying each element, making it slower and more memory-intensive.\n",
    "* **Contiguous Memory:** NumPy arrays store their data in a single, contiguous block of memory. This allows for optimized, fast access to elements, as the location of any element can be calculated with a simple arithmetic formula. Python lists store pointers to objects scattered around in memory, which requires more steps to access each element.\n",
    "\n",
    "---"
   ]
  },
  {
   "cell_type": "markdown",
   "id": "fc0108d3-bede-4289-9eb5-fad3eaab5cbd",
   "metadata": {},
   "source": [
    "### Q22. What are some common use cases for Seaborn?\n",
    "\n",
    "Seaborn is commonly used for:\n",
    "* **Relationship Plots:** Visualizing the relationship between two variables using scatter plots (`scatterplot`, `relplot`).\n",
    "* **Distribution Plots:** Understanding the distribution of a single variable using histograms (`histplot`), kernel density plots (`kdeplot`), or visualizing distributions across different categories (`boxplot`, `violinplot`).\n",
    "* **Categorical Data Visualization:** Plotting data with one or more categorical variables using bar plots (`barplot`, `countplot`) or point plots (`pointplot`).\n",
    "* **Matrix Plots:** Visualizing matrices of data, most notably creating heatmaps of correlation matrices (`heatmap`).\n",
    "* **Regression Plots:** Visualizing linear regression models to see trends in data (`regplot`, `lmplot`).\n",
    "* **Multi-plot Grids:** Creating complex visualizations that show multiple aspects of the data in a single figure, like `pairplot` and `FacetGrid`.\n",
    "\n",
    "---"
   ]
  },
  {
   "cell_type": "markdown",
   "id": "0508cd89-ee54-4a17-a5bd-a933ebc560b5",
   "metadata": {},
   "source": [
    "## Practical Questions"
   ]
  },
  {
   "cell_type": "markdown",
   "id": "81e302da-bcd1-4d4a-9752-1d82be6ac1c6",
   "metadata": {},
   "source": [
    "### Practical Q1. How do you create a 2D NumPy array and calculate the sum of each row?"
   ]
  },
  {
   "cell_type": "code",
   "execution_count": 7,
   "id": "40b0d5b0-6cb7-4051-aa57-eef9b58220fd",
   "metadata": {},
   "outputs": [
    {
     "name": "stdout",
     "output_type": "stream",
     "text": [
      "Original 2D Array:\n",
      " [[ 1  2  3  4]\n",
      " [ 5  6  7  8]\n",
      " [ 9 10 11 12]]\n",
      "\n",
      "Sum of each row: [10 26 42]\n"
     ]
    }
   ],
   "source": [
    "import numpy as np\n",
    "\n",
    "# Step 1: Create a 2D NumPy array (e.g., 3 rows, 4 columns)\n",
    "my_array = np.array([[1, 2, 3, 4],\n",
    "                     [5, 6, 7, 8],\n",
    "                     [9, 10, 11, 12]])\n",
    "\n",
    "# Step 2: Calculate the sum of each row\n",
    "# The 'axis=1' argument specifies that the sum should be performed across the columns (i.e., for each row).\n",
    "# axis=0 would sum down the columns.\n",
    "row_sums = my_array.sum(axis=1)\n",
    "\n",
    "# Step 3: Print the original array and the result\n",
    "print(\"Original 2D Array:\\n\", my_array)\n",
    "print(\"\\nSum of each row:\", row_sums)"
   ]
  },
  {
   "cell_type": "markdown",
   "id": "9efdecea-6275-42db-ad24-c21b7f1c669f",
   "metadata": {},
   "source": [
    "---"
   ]
  },
  {
   "cell_type": "markdown",
   "id": "a97d261a-746b-44dc-bff0-c1bf804e8811",
   "metadata": {},
   "source": [
    "### Practical Q2. Write a Pandas script to find the mean of a specific column in a DataFrame."
   ]
  },
  {
   "cell_type": "code",
   "execution_count": 12,
   "id": "523f84d5-c7bd-4dca-9eb7-c1728ae64bdc",
   "metadata": {},
   "outputs": [
    {
     "name": "stdout",
     "output_type": "stream",
     "text": [
      "Original DataFrame:\n",
      "   Product  Sales Region\n",
      "0       A    250   East\n",
      "1       B    150   West\n",
      "2       C    300   East\n",
      "3       A    200   West\n",
      "4       B    180   East\n",
      "\n",
      "The mean of the 'Sales' column is: 216.0\n"
     ]
    }
   ],
   "source": [
    "import pandas as pd\n",
    "\n",
    "# Step 1: Create a sample DataFrame\n",
    "data = {'Product': ['A', 'B', 'C', 'A', 'B'],\n",
    "        'Sales': [250, 150, 300, 200, 180],\n",
    "        'Region': ['East', 'West', 'East', 'West', 'East']}\n",
    "df = pd.DataFrame(data)\n",
    "\n",
    "# Step 2: Select the specific column ('Sales') and calculate its mean\n",
    "# You can access a column using bracket notation df['ColumnName']\n",
    "mean_sales = df['Sales'].mean()\n",
    "\n",
    "# Step 3: Print the original DataFrame and the calculated mean\n",
    "print(\"Original DataFrame:\\n\", df)\n",
    "print(f\"\\nThe mean of the 'Sales' column is: {mean_sales}\")"
   ]
  },
  {
   "cell_type": "markdown",
   "id": "31f65c13-ab27-44e2-9294-989e1ec609b7",
   "metadata": {},
   "source": [
    "---"
   ]
  },
  {
   "cell_type": "markdown",
   "id": "459bff04-0541-405a-bfa8-47a8b91ed58a",
   "metadata": {},
   "source": [
    "### Practical Q3. Create a scatter plot using Matplotlib."
   ]
  },
  {
   "cell_type": "code",
   "execution_count": 14,
   "id": "abdc6a87-da2b-4f47-9956-1598b09c878b",
   "metadata": {},
   "outputs": [
    {
     "data": {
      "image/png": "[encoded data removed]",
      "text/plain": [
       "<Figure size 640x480 with 1 Axes>"
      ]
     },
     "metadata": {},
     "output_type": "display_data"
    }
   ],
   "source": [
    "import matplotlib.pyplot as plt\n",
    "import numpy as np\n",
    "\n",
    "# Step 1: Generate some sample data\n",
    "# np.random.seed(42) ensures the random numbers are the same every time we run the code\n",
    "np.random.seed(42)\n",
    "x_data = np.random.rand(50) * 10  # 50 random numbers between 0 and 10\n",
    "y_data = 2 * x_data + 1 + np.random.randn(50) * 2 # y = 2x + 1 + some random noise\n",
    "\n",
    "# Step 2: Create the scatter plot\n",
    "plt.scatter(x_data, y_data)\n",
    "\n",
    "# Step 3: Add labels and a title for clarity\n",
    "plt.xlabel(\"X-axis Label\")\n",
    "plt.ylabel(\"Y-axis Label\")\n",
    "plt.title(\"Simple Scatter Plot\")\n",
    "\n",
    "# Step 4: Display the plot\n",
    "plt.show()"
   ]
  },
  {
   "cell_type": "markdown",
   "id": "d7f15028-0cd6-455e-92df-530e7d24b31d",
   "metadata": {},
   "source": [
    "---"
   ]
  },
  {
   "cell_type": "markdown",
   "id": "27a35030-22c3-4cbc-86d7-5aab414cae94",
   "metadata": {},
   "source": [
    "### Practical Q4. How do you calculate the correlation matrix using Seaborn and visualize it with a heatmap?"
   ]
  },
  {
   "cell_type": "code",
   "execution_count": 1,
   "id": "e3acb5d0-c552-4e7d-9fc1-77911eac0885",
   "metadata": {},
   "outputs": [
    {
     "data": {
      "image/png": "[encoded data removed]",
      "text/plain": [
       "<Figure size 800x600 with 2 Axes>"
      ]
     },
     "metadata": {},
     "output_type": "display_data"
    }
   ],
   "source": [
    "import pandas as pd\n",
    "import seaborn as sns\n",
    "import matplotlib.pyplot as plt\n",
    "import numpy as np\n",
    "\n",
    "# Step 1: Create a sample DataFrame with numerical columns\n",
    "np.random.seed(0)\n",
    "data = {\n",
    "    'Feature A': np.random.rand(100),\n",
    "    'Feature B': np.random.rand(100) * 2 + 0.5,\n",
    "    'Feature C': np.random.rand(100) * -1.5 + 3\n",
    "}\n",
    "# Make B and C somewhat correlated\n",
    "data['Feature C'] += data['Feature B'] * 0.6\n",
    "df = pd.DataFrame(data)\n",
    "\n",
    "# Step 2: Calculate the correlation matrix\n",
    "# The .corr() method computes the pairwise correlation of columns\n",
    "correlation_matrix = df.corr()\n",
    "\n",
    "# Step 3: Create the heatmap using Seaborn\n",
    "plt.figure(figsize=(8, 6)) # Set the figure size\n",
    "# annot=True displays the correlation values on the heatmap\n",
    "sns.heatmap(correlation_matrix, annot=True, cmap='coolwarm', fmt=\".2f\")\n",
    "\n",
    "# Step 4: Add a title and display the plot\n",
    "plt.title(\"Correlation Matrix Heatmap\")\n",
    "plt.show()"
   ]
  },
  {
   "cell_type": "markdown",
   "id": "118fd3c2-25de-4373-94b3-c340255f1af8",
   "metadata": {},
   "source": [
    "---"
   ]
  },
  {
   "cell_type": "markdown",
   "id": "b40a4b08-e205-40b1-9966-7f1631c0b8ff",
   "metadata": {},
   "source": [
    "### Practical Q5. Generate a bar plot using Plotly."
   ]
  },
  {
   "cell_type": "code",
   "execution_count": 2,
   "id": "aeae0885-aa4d-489d-a706-6fdc1c16b598",
   "metadata": {},
   "outputs": [
    {
     "data": {
      "application/vnd.plotly.v1+json": {
       "config": {
        "plotlyServerURL": "https://plot.ly"
       },
       "data": [
        {
         "hovertemplate": "City=%{x}<br>Population (in millions)=%{y}<extra></extra>",
         "legendgroup": "",
         "marker": {
          "color": "#636efa",
          "pattern": {
           "shape": ""
          }
         },
         "name": "",
         "orientation": "v",
         "showlegend": false,
         "textposition": "auto",
         "type": "bar",
         "x": [
          "New York",
          "London",
          "Tokyo",
          "Sydney"
         ],
         "xaxis": "x",
         "y": {
          "_inputArray": {
           "0": 8.4,
           "1": 8.9,
           "2": 14,
           "3": 5.3,
           "bdata": "zczMzMzMIEDNzMzMzMwhQAAAAAAAACxAMzMzMzMzFUA=",
           "dtype": "f8",
           "shape": "4"
          },
          "bdata": "zczMzMzMIEDNzMzMzMwhQAAAAAAAACxAMzMzMzMzFUA=",
          "dtype": "f8"
         },
         "yaxis": "y"
        }
       ],
       "layout": {
        "autosize": true,
        "barmode": "relative",
        "legend": {
         "tracegroupgap": 0
        },
        "template": {
         "data": {
          "bar": [
           {
            "error_x": {
             "color": "#2a3f5f"
            },
            "error_y": {
             "color": "#2a3f5f"
            },
            "marker": {
             "line": {
              "color": "#E5ECF6",
              "width": 0.5
             },
             "pattern": {
              "fillmode": "overlay",
              "size": 10,
              "solidity": 0.2
             }
            },
            "type": "bar"
           }
          ],
          "barpolar": [
           {
            "marker": {
             "line": {
              "color": "#E5ECF6",
              "width": 0.5
             },
             "pattern": {
              "fillmode": "overlay",
              "size": 10,
              "solidity": 0.2
             }
            },
            "type": "barpolar"
           }
          ],
          "carpet": [
           {
            "aaxis": {
             "endlinecolor": "#2a3f5f",
             "gridcolor": "white",
             "linecolor": "white",
             "minorgridcolor": "white",
             "startlinecolor": "#2a3f5f"
            },
            "baxis": {
             "endlinecolor": "#2a3f5f",
             "gridcolor": "white",
             "linecolor": "white",
             "minorgridcolor": "white",
             "startlinecolor": "#2a3f5f"
            },
            "type": "carpet"
           }
          ],
          "choropleth": [
           {
            "colorbar": {
             "outlinewidth": 0,
             "ticks": ""
            },
            "type": "choropleth"
           }
          ],
          "contour": [
           {
            "colorbar": {
             "outlinewidth": 0,
             "ticks": ""
            },
            "colorscale": [
             [
              0,
              "#0d0887"
             ],
             [
              0.1111111111111111,
              "#46039f"
             ],
             [
              0.2222222222222222,
              "#7201a8"
             ],
             [
              0.3333333333333333,
              "#9c179e"
             ],
             [
              0.4444444444444444,
              "#bd3786"
             ],
             [
              0.5555555555555556,
              "#d8576b"
             ],
             [
              0.6666666666666666,
              "#ed7953"
             ],
             [
              0.7777777777777778,
              "#fb9f3a"
             ],
             [
              0.8888888888888888,
              "#fdca26"
             ],
             [
              1,
              "#f0f921"
             ]
            ],
            "type": "contour"
           }
          ],
          "contourcarpet": [
           {
            "colorbar": {
             "outlinewidth": 0,
             "ticks": ""
            },
            "type": "contourcarpet"
           }
          ],
          "heatmap": [
           {
            "colorbar": {
             "outlinewidth": 0,
             "ticks": ""
            },
            "colorscale": [
             [
              0,
              "#0d0887"
             ],
             [
              0.1111111111111111,
              "#46039f"
             ],
             [
              0.2222222222222222,
              "#7201a8"
             ],
             [
              0.3333333333333333,
              "#9c179e"
             ],
             [
              0.4444444444444444,
              "#bd3786"
             ],
             [
              0.5555555555555556,
              "#d8576b"
             ],
             [
              0.6666666666666666,
              "#ed7953"
             ],
             [
              0.7777777777777778,
              "#fb9f3a"
             ],
             [
              0.8888888888888888,
              "#fdca26"
             ],
             [
              1,
              "#f0f921"
             ]
            ],
            "type": "heatmap"
           }
          ],
          "histogram": [
           {
            "marker": {
             "pattern": {
              "fillmode": "overlay",
              "size": 10,
              "solidity": 0.2
             }
            },
            "type": "histogram"
           }
          ],
          "histogram2d": [
           {
            "colorbar": {
             "outlinewidth": 0,
             "ticks": ""
            },
            "colorscale": [
             [
              0,
              "#0d0887"
             ],
             [
              0.1111111111111111,
              "#46039f"
             ],
             [
              0.2222222222222222,
              "#7201a8"
             ],
             [
              0.3333333333333333,
              "#9c179e"
             ],
             [
              0.4444444444444444,
              "#bd3786"
             ],
             [
              0.5555555555555556,
              "#d8576b"
             ],
             [
              0.6666666666666666,
              "#ed7953"
             ],
             [
              0.7777777777777778,
              "#fb9f3a"
             ],
             [
              0.8888888888888888,
              "#fdca26"
             ],
             [
              1,
              "#f0f921"
             ]
            ],
            "type": "histogram2d"
           }
          ],
          "histogram2dcontour": [
           {
            "colorbar": {
             "outlinewidth": 0,
             "ticks": ""
            },
            "colorscale": [
             [
              0,
              "#0d0887"
             ],
             [
              0.1111111111111111,
              "#46039f"
             ],
             [
              0.2222222222222222,
              "#7201a8"
             ],
             [
              0.3333333333333333,
              "#9c179e"
             ],
             [
              0.4444444444444444,
              "#bd3786"
             ],
             [
              0.5555555555555556,
              "#d8576b"
             ],
             [
              0.6666666666666666,
              "#ed7953"
             ],
             [
              0.7777777777777778,
              "#fb9f3a"
             ],
             [
              0.8888888888888888,
              "#fdca26"
             ],
             [
              1,
              "#f0f921"
             ]
            ],
            "type": "histogram2dcontour"
           }
          ],
          "mesh3d": [
           {
            "colorbar": {
             "outlinewidth": 0,
             "ticks": ""
            },
            "type": "mesh3d"
           }
          ],
          "parcoords": [
           {
            "line": {
             "colorbar": {
              "outlinewidth": 0,
              "ticks": ""
             }
            },
            "type": "parcoords"
           }
          ],
          "pie": [
           {
            "automargin": true,
            "type": "pie"
           }
          ],
          "scatter": [
           {
            "fillpattern": {
             "fillmode": "overlay",
             "size": 10,
             "solidity": 0.2
            },
            "type": "scatter"
           }
          ],
          "scatter3d": [
           {
            "line": {
             "colorbar": {
              "outlinewidth": 0,
              "ticks": ""
             }
            },
            "marker": {
             "colorbar": {
              "outlinewidth": 0,
              "ticks": ""
             }
            },
            "type": "scatter3d"
           }
          ],
          "scattercarpet": [
           {
            "marker": {
             "colorbar": {
              "outlinewidth": 0,
              "ticks": ""
             }
            },
            "type": "scattercarpet"
           }
          ],
          "scattergeo": [
           {
            "marker": {
             "colorbar": {
              "outlinewidth": 0,
              "ticks": ""
             }
            },
            "type": "scattergeo"
           }
          ],
          "scattergl": [
           {
            "marker": {
             "colorbar": {
              "outlinewidth": 0,
              "ticks": ""
             }
            },
            "type": "scattergl"
           }
          ],
          "scattermap": [
           {
            "marker": {
             "colorbar": {
              "outlinewidth": 0,
              "ticks": ""
             }
            },
            "type": "scattermap"
           }
          ],
          "scattermapbox": [
           {
            "marker": {
             "colorbar": {
              "outlinewidth": 0,
              "ticks": ""
             }
            },
            "type": "scattermapbox"
           }
          ],
          "scatterpolar": [
           {
            "marker": {
             "colorbar": {
              "outlinewidth": 0,
              "ticks": ""
             }
            },
            "type": "scatterpolar"
           }
          ],
          "scatterpolargl": [
           {
            "marker": {
             "colorbar": {
              "outlinewidth": 0,
              "ticks": ""
             }
            },
            "type": "scatterpolargl"
           }
          ],
          "scatterternary": [
           {
            "marker": {
             "colorbar": {
              "outlinewidth": 0,
              "ticks": ""
             }
            },
            "type": "scatterternary"
           }
          ],
          "surface": [
           {
            "colorbar": {
             "outlinewidth": 0,
             "ticks": ""
            },
            "colorscale": [
             [
              0,
              "#0d0887"
             ],
             [
              0.1111111111111111,
              "#46039f"
             ],
             [
              0.2222222222222222,
              "#7201a8"
             ],
             [
              0.3333333333333333,
              "#9c179e"
             ],
             [
              0.4444444444444444,
              "#bd3786"
             ],
             [
              0.5555555555555556,
              "#d8576b"
             ],
             [
              0.6666666666666666,
              "#ed7953"
             ],
             [
              0.7777777777777778,
              "#fb9f3a"
             ],
             [
              0.8888888888888888,
              "#fdca26"
             ],
             [
              1,
              "#f0f921"
             ]
            ],
            "type": "surface"
           }
          ],
          "table": [
           {
            "cells": {
             "fill": {
              "color": "#EBF0F8"
             },
             "line": {
              "color": "white"
             }
            },
            "header": {
             "fill": {
              "color": "#C8D4E3"
             },
             "line": {
              "color": "white"
             }
            },
            "type": "table"
           }
          ]
         },
         "layout": {
          "annotationdefaults": {
           "arrowcolor": "#2a3f5f",
           "arrowhead": 0,
           "arrowwidth": 1
          },
          "autotypenumbers": "strict",
          "coloraxis": {
           "colorbar": {
            "outlinewidth": 0,
            "ticks": ""
           }
          },
          "colorscale": {
           "diverging": [
            [
             0,
             "#8e0152"
            ],
            [
             0.1,
             "#c51b7d"
            ],
            [
             0.2,
             "#de77ae"
            ],
            [
             0.3,
             "#f1b6da"
            ],
            [
             0.4,
             "#fde0ef"
            ],
            [
             0.5,
             "#f7f7f7"
            ],
            [
             0.6,
             "#e6f5d0"
            ],
            [
             0.7,
             "#b8e186"
            ],
            [
             0.8,
             "#7fbc41"
            ],
            [
             0.9,
             "#4d9221"
            ],
            [
             1,
             "#276419"
            ]
           ],
           "sequential": [
            [
             0,
             "#0d0887"
            ],
            [
             0.1111111111111111,
             "#46039f"
            ],
            [
             0.2222222222222222,
             "#7201a8"
            ],
            [
             0.3333333333333333,
             "#9c179e"
            ],
            [
             0.4444444444444444,
             "#bd3786"
            ],
            [
             0.5555555555555556,
             "#d8576b"
            ],
            [
             0.6666666666666666,
             "#ed7953"
            ],
            [
             0.7777777777777778,
             "#fb9f3a"
            ],
            [
             0.8888888888888888,
             "#fdca26"
            ],
            [
             1,
             "#f0f921"
            ]
           ],
           "sequentialminus": [
            [
             0,
             "#0d0887"
            ],
            [
             0.1111111111111111,
             "#46039f"
            ],
            [
             0.2222222222222222,
             "#7201a8"
            ],
            [
             0.3333333333333333,
             "#9c179e"
            ],
            [
             0.4444444444444444,
             "#bd3786"
            ],
            [
             0.5555555555555556,
             "#d8576b"
            ],
            [
             0.6666666666666666,
             "#ed7953"
            ],
            [
             0.7777777777777778,
             "#fb9f3a"
            ],
            [
             0.8888888888888888,
             "#fdca26"
            ],
            [
             1,
             "#f0f921"
            ]
           ]
          },
          "colorway": [
           "#636efa",
           "#EF553B",
           "#00cc96",
           "#ab63fa",
           "#FFA15A",
           "#19d3f3",
           "#FF6692",
           "#B6E880",
           "#FF97FF",
           "#FECB52"
          ],
          "font": {
           "color": "#2a3f5f"
          },
          "geo": {
           "bgcolor": "white",
           "lakecolor": "white",
           "landcolor": "#E5ECF6",
           "showlakes": true,
           "showland": true,
           "subunitcolor": "white"
          },
          "hoverlabel": {
           "align": "left"
          },
          "hovermode": "closest",
          "mapbox": {
           "style": "light"
          },
          "paper_bgcolor": "white",
          "plot_bgcolor": "#E5ECF6",
          "polar": {
           "angularaxis": {
            "gridcolor": "white",
            "linecolor": "white",
            "ticks": ""
           },
           "bgcolor": "#E5ECF6",
           "radialaxis": {
            "gridcolor": "white",
            "linecolor": "white",
            "ticks": ""
           }
          },
          "scene": {
           "xaxis": {
            "backgroundcolor": "#E5ECF6",
            "gridcolor": "white",
            "gridwidth": 2,
            "linecolor": "white",
            "showbackground": true,
            "ticks": "",
            "zerolinecolor": "white"
           },
           "yaxis": {
            "backgroundcolor": "#E5ECF6",
            "gridcolor": "white",
            "gridwidth": 2,
            "linecolor": "white",
            "showbackground": true,
            "ticks": "",
            "zerolinecolor": "white"
           },
           "zaxis": {
            "backgroundcolor": "#E5ECF6",
            "gridcolor": "white",
            "gridwidth": 2,
            "linecolor": "white",
            "showbackground": true,
            "ticks": "",
            "zerolinecolor": "white"
           }
          },
          "shapedefaults": {
           "line": {
            "color": "#2a3f5f"
           }
          },
          "ternary": {
           "aaxis": {
            "gridcolor": "white",
            "linecolor": "white",
            "ticks": ""
           },
           "baxis": {
            "gridcolor": "white",
            "linecolor": "white",
            "ticks": ""
           },
           "bgcolor": "#E5ECF6",
           "caxis": {
            "gridcolor": "white",
            "linecolor": "white",
            "ticks": ""
           }
          },
          "title": {
           "x": 0.05
          },
          "xaxis": {
           "automargin": true,
           "gridcolor": "white",
           "linecolor": "white",
           "ticks": "",
           "title": {
            "standoff": 15
           },
           "zerolinecolor": "white",
           "zerolinewidth": 2
          },
          "yaxis": {
           "automargin": true,
           "gridcolor": "white",
           "linecolor": "white",
           "ticks": "",
           "title": {
            "standoff": 15
           },
           "zerolinecolor": "white",
           "zerolinewidth": 2
          }
         }
        },
        "title": {
         "text": "Population of Major Cities"
        },
        "xaxis": {
         "anchor": "y",
         "autorange": true,
         "domain": [
          0,
          1
         ],
         "range": [
          -0.5,
          3.5
         ],
         "title": {
          "text": "City"
         },
         "type": "category"
        },
        "yaxis": {
         "anchor": "x",
         "autorange": true,
         "domain": [
          0,
          1
         ],
         "range": [
          0,
          14.736842105263158
         ],
         "title": {
          "text": "Population (in millions)"
         },
         "type": "linear"
        }
       }
      },
      "image/png": "[encoded data removed]"
     },
     "metadata": {},
     "output_type": "display_data"
    }
   ],
   "source": [
    "import plotly.express as px\n",
    "import pandas as pd\n",
    "\n",
    "# Step 1: Create a sample DataFrame\n",
    "data = {'City': ['New York', 'London', 'Tokyo', 'Sydney'],\n",
    "        'Population': [8.4, 8.9, 14.0, 5.3]}\n",
    "df = pd.DataFrame(data)\n",
    "\n",
    "# Step 2: Generate the bar plot using Plotly Express\n",
    "# px.bar is a high-level function for creating bar charts\n",
    "# 'x' specifies the column for the x-axis (categories)\n",
    "# 'y' specifies the column for the y-axis (values)\n",
    "fig = px.bar(df,\n",
    "             x='City',\n",
    "             y='Population',\n",
    "             title='Population of Major Cities',\n",
    "             labels={'Population': 'Population (in millions)'})\n",
    "\n",
    "# Step 3: Show the interactive plot\n",
    "fig.show()"
   ]
  },
  {
   "cell_type": "markdown",
   "id": "dc5a2eb0-c77d-4d10-9f86-c42622d0bc8b",
   "metadata": {},
   "source": [
    "---"
   ]
  },
  {
   "cell_type": "markdown",
   "id": "44192c6d-46e3-4f71-ba54-6e3d9cb55db5",
   "metadata": {},
   "source": [
    "### Practical Q6. Create a DataFrame and add a new column based on an existing column."
   ]
  },
  {
   "cell_type": "code",
   "execution_count": 4,
   "id": "c401aba2-b435-44ef-850c-e78f4fcd5f3b",
   "metadata": {},
   "outputs": [
    {
     "name": "stdout",
     "output_type": "stream",
     "text": [
      "Original DataFrame:\n",
      "       Name  Score Grade\n",
      "0    Alice     85  Pass\n",
      "1      Bob     92  Pass\n",
      "2  Charlie     78  Pass\n",
      "3    David     65  Fail\n",
      "\n",
      "DataFrame with new 'Grade' column:\n",
      "       Name Grade\n",
      "0    Alice  Pass\n",
      "1      Bob  Pass\n",
      "2  Charlie  Pass\n",
      "3    David  Fail\n"
     ]
    }
   ],
   "source": [
    "import pandas as pd\n",
    "\n",
    "# Step 1: Create an initial DataFrame\n",
    "data = {'Name': ['Alice', 'Bob', 'Charlie', 'David'],\n",
    "        'Score': [85, 92, 78, 65]}\n",
    "df = pd.DataFrame(data)\n",
    "\n",
    "# Step 2: Add a new column 'Grade' based on the 'Score' column\n",
    "# We use a lambda function with .apply() to determine the grade for each score\n",
    "df['Grade'] = df['Score'].apply(lambda score: 'Pass' if score >= 70 else 'Fail')\n",
    "\n",
    "# Step 3: Print the original and updated DataFrames\n",
    "print(\"Original DataFrame:\\n\", df)\n",
    "print(\"\\nDataFrame with new 'Grade' column:\\n\", df.drop(columns=['Score'])) # A version without the score for clarity"
   ]
  },
  {
   "cell_type": "markdown",
   "id": "7f0d5a40-78eb-4758-99b3-18239b2ecbc3",
   "metadata": {},
   "source": [
    "---"
   ]
  },
  {
   "cell_type": "markdown",
   "id": "d6946346-17dd-4302-928e-90817e38aeba",
   "metadata": {},
   "source": [
    "### Practical Q7. Write a program to perform element-wise multiplication of two NumPy arrays."
   ]
  },
  {
   "cell_type": "code",
   "execution_count": 7,
   "id": "81072aa6-bcc5-489a-af4b-f2f555cd2a35",
   "metadata": {},
   "outputs": [
    {
     "name": "stdout",
     "output_type": "stream",
     "text": [
      "Array 1:\n",
      " [[1 2]\n",
      " [3 4]]\n",
      "\n",
      "Array 2:\n",
      " [[10 20]\n",
      " [30 40]]\n",
      "\n",
      "Element-wise Product:\n",
      " [[ 10  40]\n",
      " [ 90 160]]\n"
     ]
    }
   ],
   "source": [
    "import numpy as np\n",
    "\n",
    "# Step 1: Create two NumPy arrays of the same shape\n",
    "array1 = np.array([[1, 2], [3, 4]])\n",
    "array2 = np.array([[10, 20], [30, 40]])\n",
    "\n",
    "# Step 2: Perform element-wise multiplication\n",
    "# The '*' operator performs element-wise multiplication for NumPy arrays\n",
    "elementwise_product = array1 * array2\n",
    "\n",
    "# Step 3: Print the original arrays and the result\n",
    "print(\"Array 1:\\n\", array1)\n",
    "print(\"\\nArray 2:\\n\", array2)\n",
    "print(\"\\nElement-wise Product:\\n\", elementwise_product)"
   ]
  },
  {
   "cell_type": "markdown",
   "id": "abd4a9d0-04a6-494e-844a-b37549f78165",
   "metadata": {},
   "source": [
    "---"
   ]
  },
  {
   "cell_type": "markdown",
   "id": "f4bac78b-bd48-4c6f-89da-1d2be1e2766e",
   "metadata": {},
   "source": [
    "### Practical Q8. Create a line plot with multiple lines using Matplotlib."
   ]
  },
  {
   "cell_type": "code",
   "execution_count": 9,
   "id": "f09287c0-9e4f-457f-9b39-2e33e8199b15",
   "metadata": {},
   "outputs": [
    {
     "data": {
      "image/png": "[encoded data removed]",
      "text/plain": [
       "<Figure size 640x480 with 1 Axes>"
      ]
     },
     "metadata": {},
     "output_type": "display_data"
    }
   ],
   "source": [
    "import matplotlib.pyplot as plt\n",
    "import numpy as np\n",
    "\n",
    "# Step 1: Create data for the x-axis and for multiple y-axes\n",
    "x = np.linspace(0, 10, 100) # 100 points from 0 to 10\n",
    "y1 = np.sin(x)\n",
    "y2 = np.cos(x)\n",
    "y3 = np.sin(x) + np.cos(x)\n",
    "\n",
    "# Step 2: Plot each line on the same axes\n",
    "# Call plt.plot() for each line you want to add\n",
    "plt.plot(x, y1, label='sin(x)')\n",
    "plt.plot(x, y2, label='cos(x)')\n",
    "plt.plot(x, y3, label='sin(x) + cos(x)', linestyle='--') # Dashed line style\n",
    "\n",
    "# Step 3: Add labels, a title, and a legend\n",
    "plt.xlabel(\"X-axis\")\n",
    "plt.ylabel(\"Y-axis\")\n",
    "plt.title(\"Multiple Lines on a Single Plot\")\n",
    "plt.legend() # Display the labels for each line\n",
    "\n",
    "# Step 4: Show the plot\n",
    "plt.show()"
   ]
  },
  {
   "cell_type": "markdown",
   "id": "78b8bb85-d831-4e75-adbe-9e39d12641cf",
   "metadata": {},
   "source": [
    "---"
   ]
  },
  {
   "cell_type": "markdown",
   "id": "7d792c5b-235f-42a6-9906-c4d5b5f468b1",
   "metadata": {},
   "source": [
    "### Practical Q9. Generate a Pandas DataFrame and filter rows where a column value is greater than a threshold."
   ]
  },
  {
   "cell_type": "code",
   "execution_count": 11,
   "id": "277fcb2b-55fb-4123-bad0-ca79e4606e64",
   "metadata": {},
   "outputs": [
    {
     "name": "stdout",
     "output_type": "stream",
     "text": [
      "Original DataFrame:\n",
      "   Name  Age  Salary\n",
      "0    A   25   50000\n",
      "1    B   42  120000\n",
      "2    C   31   85000\n",
      "3    D   19   40000\n",
      "4    E   55  150000\n",
      "\n",
      "Filtered DataFrame (Age > 30):\n",
      "   Name  Age  Salary\n",
      "1    B   42  120000\n",
      "2    C   31   85000\n",
      "4    E   55  150000\n"
     ]
    }
   ],
   "source": [
    "import pandas as pd\n",
    "\n",
    "# Step 1: Create a sample DataFrame\n",
    "data = {'Name': ['A', 'B', 'C', 'D', 'E'],\n",
    "        'Age': [25, 42, 31, 19, 55],\n",
    "        'Salary': [50000, 120000, 85000, 40000, 150000]}\n",
    "df = pd.DataFrame(data)\n",
    "\n",
    "# Step 2: Define a threshold and filter the DataFrame\n",
    "# We create a boolean mask where the condition df['Age'] > 30 is true\n",
    "threshold = 30\n",
    "filtered_df = df[df['Age'] > threshold]\n",
    "\n",
    "# Step 3: Print the original and filtered DataFrames\n",
    "print(\"Original DataFrame:\\n\", df)\n",
    "print(f\"\\nFiltered DataFrame (Age > {threshold}):\\n\", filtered_df)"
   ]
  },
  {
   "cell_type": "markdown",
   "id": "c29bebb5-3630-49dd-9b80-bdf0d1e46c2e",
   "metadata": {},
   "source": [
    "---"
   ]
  },
  {
   "cell_type": "markdown",
   "id": "39a12f54-69b9-41b3-b942-e0e880f14e76",
   "metadata": {},
   "source": [
    "### Practical Q10. Create a histogram using Seaborn to visualize a distribution."
   ]
  },
  {
   "cell_type": "code",
   "execution_count": 14,
   "id": "ba3377fc-ba1d-41ea-9d8b-250b1957403b",
   "metadata": {},
   "outputs": [
    {
     "data": {
      "image/png": "[encoded data removed]",
      "text/plain": [
       "<Figure size 640x480 with 1 Axes>"
      ]
     },
     "metadata": {},
     "output_type": "display_data"
    }
   ],
   "source": [
    "import seaborn as sns\n",
    "import numpy as np\n",
    "import matplotlib.pyplot as plt\n",
    "\n",
    "# Step 1: Generate sample data from a normal distribution\n",
    "np.random.seed(101)\n",
    "data = np.random.randn(1000) # 1000 random samples from a standard normal distribution\n",
    "\n",
    "# Step 2: Create the histogram using Seaborn's histplot\n",
    "# 'kde=True' overlays a Kernel Density Estimate curve on the histogram\n",
    "sns.histplot(data, bins=30, kde=True)\n",
    "\n",
    "# Step 3: Add a title and labels\n",
    "plt.title(\"Histogram of a Normal Distribution\")\n",
    "plt.xlabel(\"Value\")\n",
    "plt.ylabel(\"Frequency\")\n",
    "\n",
    "# Step 4: Show the plot\n",
    "plt.show()"
   ]
  },
  {
   "cell_type": "markdown",
   "id": "d93cd8f4-1545-4c3f-96e0-25c54dbff02c",
   "metadata": {},
   "source": [
    "---"
   ]
  },
  {
   "cell_type": "markdown",
   "id": "a9af4eac-14c9-4cf4-abf7-cfb5dfee7f2c",
   "metadata": {},
   "source": [
    "### Practical Q11. Perform matrix multiplication using NumPy."
   ]
  },
  {
   "cell_type": "code",
   "execution_count": 17,
   "id": "9c49a398-d642-4e4d-b578-63a5539caba0",
   "metadata": {},
   "outputs": [
    {
     "name": "stdout",
     "output_type": "stream",
     "text": [
      "Matrix A (2x3):\n",
      " [[1 2 3]\n",
      " [4 5 6]]\n",
      "\n",
      "Matrix B (3x2):\n",
      " [[ 7  8]\n",
      " [ 9 10]\n",
      " [11 12]]\n",
      "\n",
      "Matrix Product (2x2):\n",
      " [[ 58  64]\n",
      " [139 154]]\n"
     ]
    }
   ],
   "source": [
    "import numpy as np\n",
    "\n",
    "# Step 1: Create two compatible matrices for multiplication\n",
    "# The number of columns in the first matrix must equal the number of rows in the second\n",
    "matrix_a = np.array([[1, 2, 3], [4, 5, 6]]) # Shape (2, 3)\n",
    "matrix_b = np.array([[7, 8], [9, 10], [11, 12]]) # Shape (3, 2)\n",
    "\n",
    "# Step 2: Perform matrix multiplication\n",
    "# Use the '@' operator (preferred) or np.dot()\n",
    "matrix_product = matrix_a @ matrix_b\n",
    "\n",
    "# Step 3: Print the original matrices and their product\n",
    "print(\"Matrix A (2x3):\\n\", matrix_a)\n",
    "print(\"\\nMatrix B (3x2):\\n\", matrix_b)\n",
    "print(\"\\nMatrix Product (2x2):\\n\", matrix_product)"
   ]
  },
  {
   "cell_type": "markdown",
   "id": "b14992f1-104b-43f1-a314-f2afb6ac618a",
   "metadata": {},
   "source": [
    "---"
   ]
  },
  {
   "cell_type": "markdown",
   "id": "3e3137ab-5cf7-4a11-9407-5724a812e9de",
   "metadata": {},
   "source": [
    "### Practical Q12. Use Pandas to load a CSV file and display its first 5 rows."
   ]
  },
  {
   "cell_type": "code",
   "execution_count": 19,
   "id": "e842ed56-6e91-4ee3-b717-566e3150ffdf",
   "metadata": {},
   "outputs": [
    {
     "name": "stdout",
     "output_type": "stream",
     "text": [
      "Content of 'sample_data.csv':\n",
      "\n",
      "   id     name  score\n",
      "0   1    Alice     88\n",
      "1   2      Bob     92\n",
      "2   3  Charlie     74\n",
      "3   4    David     81\n",
      "4   5    Emily     95\n"
     ]
    }
   ],
   "source": [
    "import pandas as pd\n",
    "import os\n",
    "\n",
    "# Step 1: Create a dummy CSV file for demonstration purposes\n",
    "csv_data = \"\"\"id,name,score\n",
    "1,Alice,88\n",
    "2,Bob,92\n",
    "3,Charlie,74\n",
    "4,David,81\n",
    "5,Emily,95\n",
    "6,Frank,68\n",
    "\"\"\"\n",
    "file_name = \"sample_data.csv\"\n",
    "with open(file_name, \"w\") as f:\n",
    "    f.write(csv_data)\n",
    "\n",
    "# Step 2: Load the CSV file into a Pandas DataFrame\n",
    "# The pd.read_csv() function is used to read data from a CSV file\n",
    "df = pd.read_csv(file_name)\n",
    "\n",
    "# Step 3: Display the first 5 rows using the .head() method\n",
    "# .head(n) returns the first n rows of the DataFrame (default is 5)\n",
    "first_five_rows = df.head()\n",
    "\n",
    "# Step 4: Print the result\n",
    "print(f\"Content of '{file_name}':\\n\")\n",
    "print(first_five_rows)\n",
    "\n",
    "# Clean up the dummy file\n",
    "os.remove(file_name)"
   ]
  },
  {
   "cell_type": "markdown",
   "id": "f789af74-2fe7-412c-9d69-028a47c85c1e",
   "metadata": {},
   "source": [
    "---"
   ]
  },
  {
   "cell_type": "markdown",
   "id": "b428d291-8e9b-49c4-a6e2-188c697cc8ad",
   "metadata": {},
   "source": [
    "### Practical Q13. Create a 3D scatter plot using Plotly."
   ]
  },
  {
   "cell_type": "code",
   "execution_count": 21,
   "id": "30c9ca36-9d43-4433-9d65-c02fab86d4b8",
   "metadata": {},
   "outputs": [
    {
     "data": {
      "application/vnd.plotly.v1+json": {
       "config": {
        "plotlyServerURL": "https://plot.ly"
       },
       "data": [
        {
         "hovertemplate": "Category=Group 1<br>X-Coord=%{x}<br>Y-Coord=%{y}<br>Z-Coord=%{z}<extra></extra>",
         "legendgroup": "Group 1",
         "marker": {
          "color": "#636efa",
          "symbol": "circle"
         },
         "mode": "markers",
         "name": "Group 1",
         "scene": "scene",
         "showlegend": true,
         "type": "scatter3d",
         "x": {
          "_inputArray": {
           "0": 1.764052345967664,
           "1": 0.4001572083672233,
           "10": 0.33367432737426683,
           "11": 0.31306770165090136,
           "12": -0.8540957393017248,
           "13": -2.5529898158340787,
           "14": 0.8644361988595057,
           "15": -0.7421650204064419,
           "16": -1.4543656745987648,
           "17": -0.1871838500258336,
           "18": 1.5327792143584575,
           "19": 0.37816251960217356,
           "2": 1.8675579901499675,
           "20": -0.8877857476301128,
           "21": 1.2302906807277207,
           "22": 1.2023798487844113,
           "23": -0.3873268174079523,
           "24": -0.30230275057533557,
           "25": -1.0485529650670926,
           "26": -1.7062701906250126,
           "27": 1.9507753952317897,
           "28": -0.5096521817516535,
           "29": -0.4380743016111864,
           "3": -0.977277879876411,
           "30": -1.2527953600499262,
           "31": -0.510805137568873,
           "32": -1.180632184122412,
           "33": -0.813146282044454,
           "34": -1.7262826023316769,
           "35": 0.17742614225375283,
           "36": 0.05194539579613895,
           "37": 0.7290905621775369,
           "38": 1.1394006845433007,
           "39": -0.31155253212737266,
           "4": 0.9500884175255894,
           "40": 0.05616534222974544,
           "41": -1.1651498407833565,
           "42": 0.9008264869541871,
           "43": -1.5362436862772237,
           "44": 1.4882521937955997,
           "45": 1.8958891760305832,
           "46": 1.1787795711596507,
           "47": 0.2082749780768603,
           "48": 0.3563663971744019,
           "49": 0.7065731681919482,
           "5": -0.10321885179355784,
           "6": 0.144043571160878,
           "7": 1.454273506962975,
           "8": 0.12167501649282841,
           "9": 0.44386323274542566,
           "bdata": "pc/l8445/D9Ticz6LJzZP9o9sXyE4f0/goylQtxF77/plTLTH2fuP1m0yPiMbLq/7eGqDQVwwj/3hf1LtET3P5CzkwgYJr8/y3UiVUFo3D/kleWQ61rVP4SRAR1NCdQ/8IV+lsBU6786OrDshWwEwGyQchp2qes/2S9c29C/578NOg3xFEX3vzikGfGj9ce/x4daf0OG+D8z6pCR0DPYP8qj/ae9aOy/RcnkR0Wv8z8kYP6m8jzzP/hgaGv2ydi/9Y/Nou1Y079TZFF538bwv2D8rfjhTPu/zMrFQmA2/z82q54XEk/gv2XWqMtoCdy/buu/JXML9L8/lg8EhFjgv66StpLe4/K/Z9YHWksF6r92sYqB2p77v0+4N1vmtcY/CpA+QJaYqj8p/gu7tVTnP7F0Ujb8OvI/iEYeCHrw078+PxcotMGsP32q0Sh0pPK/fNeaEZLT7D9e9HNCdJT4v3LWSIjhz/c/k0R+449V/j98LbX3R9zyP1ImtSXBqMo/SnlQAbXO1j9hsjNVP5zmPw==",
           "dtype": "f8",
           "shape": "50"
          },
          "bdata": "pc/l8445/D9Ticz6LJzZP9o9sXyE4f0/goylQtxF77/plTLTH2fuP1m0yPiMbLq/7eGqDQVwwj/3hf1LtET3P5CzkwgYJr8/y3UiVUFo3D/kleWQ61rVP4SRAR1NCdQ/8IV+lsBU6786OrDshWwEwGyQchp2qes/2S9c29C/578NOg3xFEX3vzikGfGj9ce/x4daf0OG+D8z6pCR0DPYP8qj/ae9aOy/RcnkR0Wv8z8kYP6m8jzzP/hgaGv2ydi/9Y/Nou1Y079TZFF538bwv2D8rfjhTPu/zMrFQmA2/z82q54XEk/gv2XWqMtoCdy/buu/JXML9L8/lg8EhFjgv66StpLe4/K/Z9YHWksF6r92sYqB2p77v0+4N1vmtcY/CpA+QJaYqj8p/gu7tVTnP7F0Ujb8OvI/iEYeCHrw078+PxcotMGsP32q0Sh0pPK/fNeaEZLT7D9e9HNCdJT4v3LWSIjhz/c/k0R+449V/j98LbX3R9zyP1ImtSXBqMo/SnlQAbXO1j9hsjNVP5zmPw==",
          "dtype": "f8"
         },
         "y": {
          "_inputArray": {
           "0": 1.8831506970562544,
           "1": -1.3477590611424464,
           "10": 0.8024563957963952,
           "11": 0.6140793703460803,
           "12": 0.9222066715665268,
           "13": 0.37642553115562943,
           "14": 0.298238174206056,
           "15": 1.3263858966870303,
           "16": -0.14963454032767076,
           "17": 1.8492637284793418,
           "18": 0.6722947570124355,
           "19": 0.5392491912918173,
           "2": -1.17312340511416,
           "20": -0.6743326606573761,
           "21": 0.5765908166149409,
           "22": -0.20829875557799488,
           "23": 0.3960067126616453,
           "24": -1.0930615087305058,
           "25": -1.4912575927056055,
           "26": 0.16667349537252904,
           "27": 0.6350314368921064,
           "28": 2.383144774863942,
           "29": 0.9444794869904138,
           "3": 1.9436211856492926,
           "30": -0.9128222254441586,
           "31": -0.7447548220484399,
           "32": -0.8264385386590144,
           "33": 0.9494208069257608,
           "34": 0.0875512413851909,
           "35": -1.225435518830168,
           "36": 0.3169426119248496,
           "37": 0.920858823780819,
           "38": 0.8568306119026912,
           "39": -0.45553250351734315,
           "4": -0.41361898075974735,
           "40": 0.01747915902505673,
           "41": -0.35399391125348395,
           "42": -1.3749512934180188,
           "43": -2.2234031522244266,
           "44": 0.6252314510271875,
           "45": -1.6020576556067476,
           "46": -1.1043833394284506,
           "47": -0.0392828182274956,
           "48": 0.5232766605317537,
           "49": -0.1715463312222481,
           "5": 1.9229420264803847,
           "6": 1.8675589604265699,
           "7": 0.9060446582753853,
           "8": 1.9100649530990337,
           "9": -0.2680033709513804,
           "bdata": "Tb0UoGIh/j9b6SfOa5D1vxozMgwdxfK/xNJChxIZ/z/KjNe+u3javz9lvdtexP4/WyQmgYXh/T/LQwBeUf7sP+y8rESgj/4/Rg1dnPcm0b9pKw0Jua3pPygcmceJpuM/9//QkLeC7T/HV2wcWxfYP4uPKJFVFtM/x1cCa+A49T9smIeAOSfDv/r2N5CVlv0/bYBUS3CD5T8LxR+Fh0HhPzS9hBYilOW/lB+RlW5z4j9eo4CbiKnKvwM1+IksWNk/GjmIEC598b/0UOnrMNz3vx8V3p2OVcU/gkWsci1S5D8tZC01rhADQOK7iwstOe4/9war9NY17b8skIcQCNXnv1U59jsvcuq/GGt8vqdh7j+hPXkWwmm2P8O3S0Zim/O/YkQ7qslI1D+D5IvsrHftP+StCggoa+s/v843zXEn3b/ILn+BDuaRPxtH9BPWp9a/Myxt7cz/9b+NBIWXh8kBwOj0UmPlAeQ/1zJSNQei+b+6elHdjavxv4TiKafgHKS/p873sa6+4D9iliztOvXFvw==",
           "dtype": "f8",
           "shape": "50"
          },
          "bdata": "Tb0UoGIh/j9b6SfOa5D1vxozMgwdxfK/xNJChxIZ/z/KjNe+u3javz9lvdtexP4/WyQmgYXh/T/LQwBeUf7sP+y8rESgj/4/Rg1dnPcm0b9pKw0Jua3pPygcmceJpuM/9//QkLeC7T/HV2wcWxfYP4uPKJFVFtM/x1cCa+A49T9smIeAOSfDv/r2N5CVlv0/bYBUS3CD5T8LxR+Fh0HhPzS9hBYilOW/lB+RlW5z4j9eo4CbiKnKvwM1+IksWNk/GjmIEC598b/0UOnrMNz3vx8V3p2OVcU/gkWsci1S5D8tZC01rhADQOK7iwstOe4/9war9NY17b8skIcQCNXnv1U59jsvcuq/GGt8vqdh7j+hPXkWwmm2P8O3S0Zim/O/YkQ7qslI1D+D5IvsrHftP+StCggoa+s/v843zXEn3b/ILn+BDuaRPxtH9BPWp9a/Myxt7cz/9b+NBIWXh8kBwOj0UmPlAeQ/1zJSNQei+b+6elHdjavxv4TiKafgHKS/p873sa6+4D9iliztOvXFvw==",
          "dtype": "f8"
         },
         "z": {
          "_inputArray": {
           "0": -0.3691818379424436,
           "1": -0.2393791775759264,
           "10": -0.41004969320254847,
           "11": 2.259308950690852,
           "12": -0.04225715166064269,
           "13": -0.955945000492777,
           "14": -0.4635959746460942,
           "15": 0.4814814737734622,
           "16": 0.06326199420033171,
           "17": 0.23218103620027578,
           "18": -0.5973160689653627,
           "19": -0.49331988336219407,
           "2": 0.640131526097592,
           "20": -0.5428614760167177,
           "21": 1.4944845444913688,
           "22": -2.0699850250135325,
           "23": 0.42625873077810095,
           "24": 0.6769080350302455,
           "25": -0.637437025552229,
           "26": -0.13288057758695562,
           "27": -0.2977908794017283,
           "28": -0.3090129690471222,
           "29": -1.6760038063299767,
           "3": -1.6169560443108344,
           "30": 1.15233156478312,
           "31": 0.14195316332077967,
           "32": -0.3193284171450952,
           "33": -0.5963140384505081,
           "34": -0.05256729626954629,
           "35": -1.936279805846507,
           "36": 0.09740016626878341,
           "37": 0.3990463456401302,
           "38": 1.9559123082506942,
           "39": -2.0306844677814944,
           "4": -0.024326124398935636,
           "40": 2.0644928613593194,
           "41": -0.11054065723247261,
           "42": 1.0201727117157997,
           "43": 1.5363770542457977,
           "44": 0.28634368889227957,
           "45": 0.6088438344754508,
           "46": -1.0452533661469547,
           "47": 2.303916697683942,
           "48": -0.13594970067832082,
           "49": 1.1368913626026953,
           "5": 0.27992459904323824,
           "6": 0.9101789080925919,
           "7": 0.31721821519130206,
           "8": -0.46641909673594306,
           "9": -0.9444462559182504,
           "bdata": "n1sP3Kyg17/vF4QV+qPOv41JNxz1e+Q/KScWTQ3f+b+3a+2S8uiYv80kj91I6tE/lIh4hC8g7T/nS/ygTU3UP7J8rXvP2d2/+fO/Wuc47r++i4IRQT7av+I3NpIQEwJAHyTPuLqipb+OhDz4GZfuv89hanOOq92/Zinfq5fQ3j8GkCsk8DGwP02knbIbuM0/wpuyljYd479HdWCPjZLfv78AuAcfX+G/dnwvoGjp9z+WJA1PVI8AwPDjFLPSR9s/SVgbCjup5T/wM0BV4mXkv205gRM7AsG/0PUEegEP079ZOQZV3sbTv1CKAl7p0Pq/qEUOOfNv8j80ZANxhSvCP5SVFHXgb9S/wEypLQEV479kOaLEGeqqv3FBoIgA+/6/1de/oDfvuD8CNgev+YnZP1l9XLRqS/8/+O6Mf9c+AMDw6FLVFIQAQNYasXtkTLy/uHQRn6BS8D/j9yQbAJX4P25VzXp0U9I/gC+uEKZ74z9OKfqXW7nwvzgWquBrbgJAgT0ov8xmwb86vFf/tDDyPw==",
           "dtype": "f8",
           "shape": "50"
          },
          "bdata": "n1sP3Kyg17/vF4QV+qPOv41JNxz1e+Q/KScWTQ3f+b+3a+2S8uiYv80kj91I6tE/lIh4hC8g7T/nS/ygTU3UP7J8rXvP2d2/+fO/Wuc47r++i4IRQT7av+I3NpIQEwJAHyTPuLqipb+OhDz4GZfuv89hanOOq92/Zinfq5fQ3j8GkCsk8DGwP02knbIbuM0/wpuyljYd479HdWCPjZLfv78AuAcfX+G/dnwvoGjp9z+WJA1PVI8AwPDjFLPSR9s/SVgbCjup5T/wM0BV4mXkv205gRM7AsG/0PUEegEP079ZOQZV3sbTv1CKAl7p0Pq/qEUOOfNv8j80ZANxhSvCP5SVFHXgb9S/wEypLQEV479kOaLEGeqqv3FBoIgA+/6/1de/oDfvuD8CNgev+YnZP1l9XLRqS/8/+O6Mf9c+AMDw6FLVFIQAQNYasXtkTLy/uHQRn6BS8D/j9yQbAJX4P25VzXp0U9I/gC+uEKZ74z9OKfqXW7nwvzgWquBrbgJAgT0ov8xmwb86vFf/tDDyPw==",
          "dtype": "f8"
         }
        },
        {
         "hovertemplate": "Category=Group 2<br>X-Coord=%{x}<br>Y-Coord=%{y}<br>Z-Coord=%{z}<extra></extra>",
         "legendgroup": "Group 2",
         "marker": {
          "color": "#EF553B",
          "symbol": "circle"
         },
         "mode": "markers",
         "name": "Group 2",
         "scene": "scene",
         "showlegend": true,
         "type": "scatter3d",
         "x": {
          "_inputArray": {
           "0": 0.9787379841057392,
           "1": 2.240893199201458,
           "10": 1.469358769900285,
           "11": 0.1549474256969163,
           "12": -1.980796468223927,
           "13": -0.3479121493261526,
           "14": 0.15634896910398005,
           "15": -1.4200179371789752,
           "16": 0.7774903558319101,
           "17": -1.6138978475579515,
           "18": -0.2127402802139687,
           "19": -0.8954665611936756,
           "2": -0.1513572082976979,
           "20": 0.386902497859262,
           "21": -0.028182228338654868,
           "22": 0.42833187053041766,
           "23": 0.06651722238316789,
           "24": 0.3024718977397814,
           "25": -0.6343220936809636,
           "26": -0.3627411659871381,
           "27": -0.672460447775951,
           "28": -0.3595531615405413,
           "29": -0.4017809362082619,
           "3": 0.41059850193837233,
           "30": -1.6301983469660446,
           "31": 0.4627822555257742,
           "32": -0.9072983643832422,
           "33": 0.12898291075741067,
           "34": -1.2348258203536526,
           "35": 0.402341641177549,
           "36": -0.6848100909403132,
           "37": -0.8707971491818818,
           "38": -0.5788496647644155,
           "39": 0.46566243973045984,
           "4": 0.7610377251469934,
           "40": -0.17992483581235091,
           "41": -1.0707526215105425,
           "42": 1.0544517269311366,
           "43": -0.40317694697317963,
           "44": 1.2224450703824274,
           "45": 0.9766390364837128,
           "46": 0.010500020720820478,
           "47": 1.7858704939058352,
           "48": 0.12691209270361992,
           "49": 0.40198936344470165,
           "5": 1.4940790731576061,
           "6": -0.20515826376580087,
           "7": 0.6536185954403606,
           "8": 2.2697546239876076,
           "9": 0.04575851730144607,
           "bdata": "q8kiUtJR7z9OMeNpWe0BQDaE00msX8O/Ziln8D5H2j8T6pDJa1roPzuZTXW/5/c/tmqwQKBCyr9mKW+LcerkP73Fvxx1KAJAXXWlDqltpz8OAG1XfoL3P8/b+zZR1cM/eN0wo1ex/79FKc9RMUTWv+5OiDY+A8Q/Xax+umS49r9RHGh0M+HoPwSKpYyG0vm/o8oH0RI7y78ioV99qafsv5r1wrECw9g/E/UrVM3bnL9Cz/ATymnbP7Wnwc5FB7E/ORcwF7Nb0z/5re/YXUzkv3r4NLkmN9e/pKPhxcuE5b+mXH9D6wLXv4XtSmPHttm/FWaj3EoV+r+Jvyl3OZ7dP6ywV5SWCO2/ZRW5E4OCwD8Rziq42MHzv25Mqyf3v9k/3OYR2vbp5b969aX7kd3rv9zWbrvvheK/nItn1WnN3T8Kr8bqxgfHv53nN4DNIfG/SxQmxgjf8D9ID3Cups3Zv+Au548ij/M/Ujk2gqBA7z/MctPsCIGFP4t4Y/Dskvw/BILQy6c+wD81blWYMbrZPw==",
           "dtype": "f8",
           "shape": "50"
          },
          "bdata": "q8kiUtJR7z9OMeNpWe0BQDaE00msX8O/Ziln8D5H2j8T6pDJa1roPzuZTXW/5/c/tmqwQKBCyr9mKW+LcerkP73Fvxx1KAJAXXWlDqltpz8OAG1XfoL3P8/b+zZR1cM/eN0wo1ex/79FKc9RMUTWv+5OiDY+A8Q/Xax+umS49r9RHGh0M+HoPwSKpYyG0vm/o8oH0RI7y78ioV99qafsv5r1wrECw9g/E/UrVM3bnL9Cz/ATymnbP7Wnwc5FB7E/ORcwF7Nb0z/5re/YXUzkv3r4NLkmN9e/pKPhxcuE5b+mXH9D6wLXv4XtSmPHttm/FWaj3EoV+r+Jvyl3OZ7dP6ywV5SWCO2/ZRW5E4OCwD8Rziq42MHzv25Mqyf3v9k/3OYR2vbp5b969aX7kd3rv9zWbrvvheK/nItn1WnN3T8Kr8bqxgfHv53nN4DNIfG/SxQmxgjf8D9ID3Cups3Zv+Au548ij/M/Ujk2gqBA7z/MctPsCIGFP4t4Y/Dskvw/BILQy6c+wD81blWYMbrZPw==",
          "dtype": "f8"
         },
         "y": {
          "_inputArray": {
           "0": -1.2704849984857336,
           "1": 0.9693967081580112,
           "10": 0.40746183624111043,
           "11": -0.7699160744453164,
           "12": 0.03183055827435118,
           "13": -0.635846078378881,
           "14": 0.6764332949464997,
           "15": 0.4393917012645369,
           "16": 1.117016288095853,
           "17": -1.3159074105115212,
           "18": -0.461584604814709,
           "19": -0.06824160532463124,
           "2": -0.7474548114407578,
           "20": 1.7133427216493666,
           "21": -0.0984525244254323,
           "22": -0.6634782863621074,
           "23": 1.126635922106507,
           "24": -1.0799315083634233,
           "25": -1.1474686524111024,
           "26": -0.43782004474443403,
           "27": -0.4980324506923049,
           "28": 1.9295320538169858,
           "29": 0.8443629764015471,
           "3": 1.4805147914344243,
           "30": -1.0002153473895647,
           "31": -1.5447710967776116,
           "32": 1.1880297923523018,
           "33": 0.3187276529430212,
           "34": -0.6510255933001469,
           "35": -1.0342428417844647,
           "36": 0.681594518281627,
           "37": -0.8034096641738411,
           "38": -0.6895497777502005,
           "39": -0.6436184028328905,
           "4": -0.8612256850547025,
           "40": 0.052165079260974405,
           "41": -0.7395629963913133,
           "42": 1.5430145954067358,
           "43": -1.2928569097234486,
           "44": 0.26705086934918293,
           "45": -1.1680934977411974,
           "46": 0.7717905512136674,
           "47": 0.8235041539637314,
           "48": 2.16323594928069,
           "49": 1.336527949436392,
           "5": 0.947251967773748,
           "6": -0.1550100930908342,
           "7": -1.0994007905841945,
           "8": -0.6945678597313655,
           "9": -0.43515355172163744,
           "bdata": "m+DoE+hT9L9ZcMw+TAXvP2IHTFom6+e/JUgnRzCw9z/lH/kqKY/rv9kd1VvjT+4/lgEw6F7Xw78vF4xIJZfxvwnETGDmOea/yX1YSI7Z27/sg0HP2hPaP+QIDQkno+i/W4CaTRhMoD8vq/3f2Vjkv0oQ929XpeU/wyjEXv4e3D86iad4TN/xP2Fgy+30DfW/ZAqBJ5qK3b9biBgnSHixv7ctxQ7aafs/2amdRC80ub8EAbHQNjvlv9gjf2OzBvI/I3TlQmZH8b9up/QWCFzyv3x6bV0+Bdy/3X0EgMPf37+FpLsAXd/+P7UhM4EFBes/Z+3fzuEA8L9MdMflYbf4v5o6DYcrAvM/vCZuqwhm1D/7qAKgM9Xkv85h2ThCjPC/+OCkTp/P5T/8Vx0viLXpv3fWDLLKEOa/L6zonoWY5L+XmNaaYbWqP3yjWgSAque/lFyIEjCw+D+mtxq6iq/0v21HjodcF9E/xH+3zoKw8r9sYhoZgrLoP7meLGIlWuo/YIk9pk5OAUDUTpAha2L1Pw==",
           "dtype": "f8",
           "shape": "50"
          },
          "bdata": "m+DoE+hT9L9ZcMw+TAXvP2IHTFom6+e/JUgnRzCw9z/lH/kqKY/rv9kd1VvjT+4/lgEw6F7Xw78vF4xIJZfxvwnETGDmOea/yX1YSI7Z27/sg0HP2hPaP+QIDQkno+i/W4CaTRhMoD8vq/3f2Vjkv0oQ929XpeU/wyjEXv4e3D86iad4TN/xP2Fgy+30DfW/ZAqBJ5qK3b9biBgnSHixv7ctxQ7aafs/2amdRC80ub8EAbHQNjvlv9gjf2OzBvI/I3TlQmZH8b9up/QWCFzyv3x6bV0+Bdy/3X0EgMPf37+FpLsAXd/+P7UhM4EFBes/Z+3fzuEA8L9MdMflYbf4v5o6DYcrAvM/vCZuqwhm1D/7qAKgM9Xkv85h2ThCjPC/+OCkTp/P5T/8Vx0viLXpv3fWDLLKEOa/L6zonoWY5L+XmNaaYbWqP3yjWgSAque/lFyIEjCw+D+mtxq6iq/0v21HjodcF9E/xH+3zoKw8r9sYhoZgrLoP7meLGIlWuo/YIk9pk5OAUDUTpAha2L1Pw==",
          "dtype": "f8"
         },
         "z": {
          "_inputArray": {
           "0": 1.0996595958871132,
           "1": 0.6552637307225978,
           "10": -0.237921729736007,
           "11": -1.4240609089825316,
           "12": 0.4160500462614255,
           "13": -1.1561824318219127,
           "14": 0.7811981017099934,
           "15": -0.39727181432879766,
           "16": 1.079618592036821,
           "17": -0.8133642592042029,
           "18": -1.466424327802514,
           "19": 0.5210648764527586,
           "2": -0.7380309092056887,
           "20": -0.5757879698130661,
           "21": 0.6915387510701866,
           "22": 0.6947491436560059,
           "23": -0.7255973784635843,
           "24": -1.3833639553950554,
           "25": -1.582938397335082,
           "26": 0.6103793791072052,
           "27": -1.188859257784029,
           "28": -0.5068163542986875,
           "29": 0.18877859679382855,
           "3": -0.09815038964295794,
           "30": 0.5238910238342056,
           "31": 0.08842208704466141,
           "32": -0.3108861716984717,
           "33": -2.77259275642665,
           "34": 0.39009332268792646,
           "35": -0.65240858238702,
           "36": -0.3909533751876011,
           "37": 0.49374177734918845,
           "38": -0.11610393903436653,
           "39": -0.6920498477843912,
           "4": 0.7863279621089762,
           "40": 1.2111452896827009,
           "41": 0.6898181645347884,
           "42": 1.3018462295649984,
           "43": -0.6280875596415789,
           "44": -0.4810271184607877,
           "45": -1.0600158227215473,
           "46": 0.0977249677148556,
           "47": 0.5829536797532936,
           "48": -0.3994490292628752,
           "49": 0.37005588784751875,
           "5": -0.017020413861440594,
           "6": 0.3791517355550818,
           "7": -0.34598177569938643,
           "8": -1.5407970144446248,
           "9": 0.1565065379653756,
           "bdata": "aRURqTSY8T8ZrLak6/fkP/A3T//ynee/Zi2bSWIgub81ByZCmSnpP9/amKPMbZG/3ZAbpAVE2D8NBOm+kCTWv5EGLcUap/i/v/IV/2cIxD/IqBwgOHTOv9t4eRf0yPa/hkuMX5Cg2j9oKE4muX/yv6JVUSmT/+g/mIuKwuZs2b83Og8lHkbxP9+NoHsUB+q/gIcfW3l2978ir24/kKzgPxbgeOTabOK/nWv43xUh5j9Ppl2OYjvmP84PUv4XOOe/AzEuPkIi9r91MII2t1P5vyhi7VU6iOM/9ar7SJEF879VTlnu1jfgv5sGtaXlKcg/2CXBG7fD4D+r0xl01KK2PxVPDh2P5dO/59RvHEUuBsChSdX7SffYP1Jsn/aH4OS/mEIsTmEF2b8ujpgcd5nfP77hFt38uL2/kfHtuEUl5r8vRB7i2WDzPyGjG4v9EuY/9HBGtlzU9D/G6/UUSxnkvwzOkfclyd6/Jk69JtP18L+XhFbkgAS5P7Hxs3mOp+I/fJdGqZKQ2b9e1P/j/q7XPw==",
           "dtype": "f8",
           "shape": "50"
          },
          "bdata": "aRURqTSY8T8ZrLak6/fkP/A3T//ynee/Zi2bSWIgub81ByZCmSnpP9/amKPMbZG/3ZAbpAVE2D8NBOm+kCTWv5EGLcUap/i/v/IV/2cIxD/IqBwgOHTOv9t4eRf0yPa/hkuMX5Cg2j9oKE4muX/yv6JVUSmT/+g/mIuKwuZs2b83Og8lHkbxP9+NoHsUB+q/gIcfW3l2978ir24/kKzgPxbgeOTabOK/nWv43xUh5j9Ppl2OYjvmP84PUv4XOOe/AzEuPkIi9r91MII2t1P5vyhi7VU6iOM/9ar7SJEF879VTlnu1jfgv5sGtaXlKcg/2CXBG7fD4D+r0xl01KK2PxVPDh2P5dO/59RvHEUuBsChSdX7SffYP1Jsn/aH4OS/mEIsTmEF2b8ujpgcd5nfP77hFt38uL2/kfHtuEUl5r8vRB7i2WDzPyGjG4v9EuY/9HBGtlzU9D/G6/UUSxnkvwzOkfclyd6/Jk69JtP18L+XhFbkgAS5P7Hxs3mOp+I/fJdGqZKQ2b9e1P/j/q7XPw==",
          "dtype": "f8"
         }
        }
       ],
       "layout": {
        "autosize": true,
        "legend": {
         "title": {
          "text": "Category"
         },
         "tracegroupgap": 0
        },
        "scene": {
         "aspectmode": "auto",
         "aspectratio": {
          "x": 0.9981961754934175,
          "y": 0.9534485147251037,
          "z": 1.050719644215012
         },
         "camera": {
          "center": {
           "x": 0,
           "y": 0,
           "z": 0
          },
          "eye": {
           "x": 0.7749526041468457,
           "y": 0.7749526041468456,
           "z": 0.7749526041468457
          },
          "projection": {
           "type": "perspective"
          },
          "up": {
           "x": 0,
           "y": 0,
           "z": 1
          }
         },
         "domain": {
          "x": [
           0,
           1
          ],
          "y": [
           0,
           1
          ]
         },
         "xaxis": {
          "title": {
           "text": "X-Coord"
          },
          "type": "linear"
         },
         "yaxis": {
          "title": {
           "text": "Y-Coord"
          },
          "type": "linear"
         },
         "zaxis": {
          "title": {
           "text": "Z-Coord"
          },
          "type": "linear"
         }
        },
        "template": {
         "data": {
          "bar": [
           {
            "error_x": {
             "color": "#2a3f5f"
            },
            "error_y": {
             "color": "#2a3f5f"
            },
            "marker": {
             "line": {
              "color": "#E5ECF6",
              "width": 0.5
             },
             "pattern": {
              "fillmode": "overlay",
              "size": 10,
              "solidity": 0.2
             }
            },
            "type": "bar"
           }
          ],
          "barpolar": [
           {
            "marker": {
             "line": {
              "color": "#E5ECF6",
              "width": 0.5
             },
             "pattern": {
              "fillmode": "overlay",
              "size": 10,
              "solidity": 0.2
             }
            },
            "type": "barpolar"
           }
          ],
          "carpet": [
           {
            "aaxis": {
             "endlinecolor": "#2a3f5f",
             "gridcolor": "white",
             "linecolor": "white",
             "minorgridcolor": "white",
             "startlinecolor": "#2a3f5f"
            },
            "baxis": {
             "endlinecolor": "#2a3f5f",
             "gridcolor": "white",
             "linecolor": "white",
             "minorgridcolor": "white",
             "startlinecolor": "#2a3f5f"
            },
            "type": "carpet"
           }
          ],
          "choropleth": [
           {
            "colorbar": {
             "outlinewidth": 0,
             "ticks": ""
            },
            "type": "choropleth"
           }
          ],
          "contour": [
           {
            "colorbar": {
             "outlinewidth": 0,
             "ticks": ""
            },
            "colorscale": [
             [
              0,
              "#0d0887"
             ],
             [
              0.1111111111111111,
              "#46039f"
             ],
             [
              0.2222222222222222,
              "#7201a8"
             ],
             [
              0.3333333333333333,
              "#9c179e"
             ],
             [
              0.4444444444444444,
              "#bd3786"
             ],
             [
              0.5555555555555556,
              "#d8576b"
             ],
             [
              0.6666666666666666,
              "#ed7953"
             ],
             [
              0.7777777777777778,
              "#fb9f3a"
             ],
             [
              0.8888888888888888,
              "#fdca26"
             ],
             [
              1,
              "#f0f921"
             ]
            ],
            "type": "contour"
           }
          ],
          "contourcarpet": [
           {
            "colorbar": {
             "outlinewidth": 0,
             "ticks": ""
            },
            "type": "contourcarpet"
           }
          ],
          "heatmap": [
           {
            "colorbar": {
             "outlinewidth": 0,
             "ticks": ""
            },
            "colorscale": [
             [
              0,
              "#0d0887"
             ],
             [
              0.1111111111111111,
              "#46039f"
             ],
             [
              0.2222222222222222,
              "#7201a8"
             ],
             [
              0.3333333333333333,
              "#9c179e"
             ],
             [
              0.4444444444444444,
              "#bd3786"
             ],
             [
              0.5555555555555556,
              "#d8576b"
             ],
             [
              0.6666666666666666,
              "#ed7953"
             ],
             [
              0.7777777777777778,
              "#fb9f3a"
             ],
             [
              0.8888888888888888,
              "#fdca26"
             ],
             [
              1,
              "#f0f921"
             ]
            ],
            "type": "heatmap"
           }
          ],
          "histogram": [
           {
            "marker": {
             "pattern": {
              "fillmode": "overlay",
              "size": 10,
              "solidity": 0.2
             }
            },
            "type": "histogram"
           }
          ],
          "histogram2d": [
           {
            "colorbar": {
             "outlinewidth": 0,
             "ticks": ""
            },
            "colorscale": [
             [
              0,
              "#0d0887"
             ],
             [
              0.1111111111111111,
              "#46039f"
             ],
             [
              0.2222222222222222,
              "#7201a8"
             ],
             [
              0.3333333333333333,
              "#9c179e"
             ],
             [
              0.4444444444444444,
              "#bd3786"
             ],
             [
              0.5555555555555556,
              "#d8576b"
             ],
             [
              0.6666666666666666,
              "#ed7953"
             ],
             [
              0.7777777777777778,
              "#fb9f3a"
             ],
             [
              0.8888888888888888,
              "#fdca26"
             ],
             [
              1,
              "#f0f921"
             ]
            ],
            "type": "histogram2d"
           }
          ],
          "histogram2dcontour": [
           {
            "colorbar": {
             "outlinewidth": 0,
             "ticks": ""
            },
            "colorscale": [
             [
              0,
              "#0d0887"
             ],
             [
              0.1111111111111111,
              "#46039f"
             ],
             [
              0.2222222222222222,
              "#7201a8"
             ],
             [
              0.3333333333333333,
              "#9c179e"
             ],
             [
              0.4444444444444444,
              "#bd3786"
             ],
             [
              0.5555555555555556,
              "#d8576b"
             ],
             [
              0.6666666666666666,
              "#ed7953"
             ],
             [
              0.7777777777777778,
              "#fb9f3a"
             ],
             [
              0.8888888888888888,
              "#fdca26"
             ],
             [
              1,
              "#f0f921"
             ]
            ],
            "type": "histogram2dcontour"
           }
          ],
          "mesh3d": [
           {
            "colorbar": {
             "outlinewidth": 0,
             "ticks": ""
            },
            "type": "mesh3d"
           }
          ],
          "parcoords": [
           {
            "line": {
             "colorbar": {
              "outlinewidth": 0,
              "ticks": ""
             }
            },
            "type": "parcoords"
           }
          ],
          "pie": [
           {
            "automargin": true,
            "type": "pie"
           }
          ],
          "scatter": [
           {
            "fillpattern": {
             "fillmode": "overlay",
             "size": 10,
             "solidity": 0.2
            },
            "type": "scatter"
           }
          ],
          "scatter3d": [
           {
            "line": {
             "colorbar": {
              "outlinewidth": 0,
              "ticks": ""
             }
            },
            "marker": {
             "colorbar": {
              "outlinewidth": 0,
              "ticks": ""
             }
            },
            "type": "scatter3d"
           }
          ],
          "scattercarpet": [
           {
            "marker": {
             "colorbar": {
              "outlinewidth": 0,
              "ticks": ""
             }
            },
            "type": "scattercarpet"
           }
          ],
          "scattergeo": [
           {
            "marker": {
             "colorbar": {
              "outlinewidth": 0,
              "ticks": ""
             }
            },
            "type": "scattergeo"
           }
          ],
          "scattergl": [
           {
            "marker": {
             "colorbar": {
              "outlinewidth": 0,
              "ticks": ""
             }
            },
            "type": "scattergl"
           }
          ],
          "scattermap": [
           {
            "marker": {
             "colorbar": {
              "outlinewidth": 0,
              "ticks": ""
             }
            },
            "type": "scattermap"
           }
          ],
          "scattermapbox": [
           {
            "marker": {
             "colorbar": {
              "outlinewidth": 0,
              "ticks": ""
             }
            },
            "type": "scattermapbox"
           }
          ],
          "scatterpolar": [
           {
            "marker": {
             "colorbar": {
              "outlinewidth": 0,
              "ticks": ""
             }
            },
            "type": "scatterpolar"
           }
          ],
          "scatterpolargl": [
           {
            "marker": {
             "colorbar": {
              "outlinewidth": 0,
              "ticks": ""
             }
            },
            "type": "scatterpolargl"
           }
          ],
          "scatterternary": [
           {
            "marker": {
             "colorbar": {
              "outlinewidth": 0,
              "ticks": ""
             }
            },
            "type": "scatterternary"
           }
          ],
          "surface": [
           {
            "colorbar": {
             "outlinewidth": 0,
             "ticks": ""
            },
            "colorscale": [
             [
              0,
              "#0d0887"
             ],
             [
              0.1111111111111111,
              "#46039f"
             ],
             [
              0.2222222222222222,
              "#7201a8"
             ],
             [
              0.3333333333333333,
              "#9c179e"
             ],
             [
              0.4444444444444444,
              "#bd3786"
             ],
             [
              0.5555555555555556,
              "#d8576b"
             ],
             [
              0.6666666666666666,
              "#ed7953"
             ],
             [
              0.7777777777777778,
              "#fb9f3a"
             ],
             [
              0.8888888888888888,
              "#fdca26"
             ],
             [
              1,
              "#f0f921"
             ]
            ],
            "type": "surface"
           }
          ],
          "table": [
           {
            "cells": {
             "fill": {
              "color": "#EBF0F8"
             },
             "line": {
              "color": "white"
             }
            },
            "header": {
             "fill": {
              "color": "#C8D4E3"
             },
             "line": {
              "color": "white"
             }
            },
            "type": "table"
           }
          ]
         },
         "layout": {
          "annotationdefaults": {
           "arrowcolor": "#2a3f5f",
           "arrowhead": 0,
           "arrowwidth": 1
          },
          "autotypenumbers": "strict",
          "coloraxis": {
           "colorbar": {
            "outlinewidth": 0,
            "ticks": ""
           }
          },
          "colorscale": {
           "diverging": [
            [
             0,
             "#8e0152"
            ],
            [
             0.1,
             "#c51b7d"
            ],
            [
             0.2,
             "#de77ae"
            ],
            [
             0.3,
             "#f1b6da"
            ],
            [
             0.4,
             "#fde0ef"
            ],
            [
             0.5,
             "#f7f7f7"
            ],
            [
             0.6,
             "#e6f5d0"
            ],
            [
             0.7,
             "#b8e186"
            ],
            [
             0.8,
             "#7fbc41"
            ],
            [
             0.9,
             "#4d9221"
            ],
            [
             1,
             "#276419"
            ]
           ],
           "sequential": [
            [
             0,
             "#0d0887"
            ],
            [
             0.1111111111111111,
             "#46039f"
            ],
            [
             0.2222222222222222,
             "#7201a8"
            ],
            [
             0.3333333333333333,
             "#9c179e"
            ],
            [
             0.4444444444444444,
             "#bd3786"
            ],
            [
             0.5555555555555556,
             "#d8576b"
            ],
            [
             0.6666666666666666,
             "#ed7953"
            ],
            [
             0.7777777777777778,
             "#fb9f3a"
            ],
            [
             0.8888888888888888,
             "#fdca26"
            ],
            [
             1,
             "#f0f921"
            ]
           ],
           "sequentialminus": [
            [
             0,
             "#0d0887"
            ],
            [
             0.1111111111111111,
             "#46039f"
            ],
            [
             0.2222222222222222,
             "#7201a8"
            ],
            [
             0.3333333333333333,
             "#9c179e"
            ],
            [
             0.4444444444444444,
             "#bd3786"
            ],
            [
             0.5555555555555556,
             "#d8576b"
            ],
            [
             0.6666666666666666,
             "#ed7953"
            ],
            [
             0.7777777777777778,
             "#fb9f3a"
            ],
            [
             0.8888888888888888,
             "#fdca26"
            ],
            [
             1,
             "#f0f921"
            ]
           ]
          },
          "colorway": [
           "#636efa",
           "#EF553B",
           "#00cc96",
           "#ab63fa",
           "#FFA15A",
           "#19d3f3",
           "#FF6692",
           "#B6E880",
           "#FF97FF",
           "#FECB52"
          ],
          "font": {
           "color": "#2a3f5f"
          },
          "geo": {
           "bgcolor": "white",
           "lakecolor": "white",
           "landcolor": "#E5ECF6",
           "showlakes": true,
           "showland": true,
           "subunitcolor": "white"
          },
          "hoverlabel": {
           "align": "left"
          },
          "hovermode": "closest",
          "mapbox": {
           "style": "light"
          },
          "paper_bgcolor": "white",
          "plot_bgcolor": "#E5ECF6",
          "polar": {
           "angularaxis": {
            "gridcolor": "white",
            "linecolor": "white",
            "ticks": ""
           },
           "bgcolor": "#E5ECF6",
           "radialaxis": {
            "gridcolor": "white",
            "linecolor": "white",
            "ticks": ""
           }
          },
          "scene": {
           "xaxis": {
            "backgroundcolor": "#E5ECF6",
            "gridcolor": "white",
            "gridwidth": 2,
            "linecolor": "white",
            "showbackground": true,
            "ticks": "",
            "zerolinecolor": "white"
           },
           "yaxis": {
            "backgroundcolor": "#E5ECF6",
            "gridcolor": "white",
            "gridwidth": 2,
            "linecolor": "white",
            "showbackground": true,
            "ticks": "",
            "zerolinecolor": "white"
           },
           "zaxis": {
            "backgroundcolor": "#E5ECF6",
            "gridcolor": "white",
            "gridwidth": 2,
            "linecolor": "white",
            "showbackground": true,
            "ticks": "",
            "zerolinecolor": "white"
           }
          },
          "shapedefaults": {
           "line": {
            "color": "#2a3f5f"
           }
          },
          "ternary": {
           "aaxis": {
            "gridcolor": "white",
            "linecolor": "white",
            "ticks": ""
           },
           "baxis": {
            "gridcolor": "white",
            "linecolor": "white",
            "ticks": ""
           },
           "bgcolor": "#E5ECF6",
           "caxis": {
            "gridcolor": "white",
            "linecolor": "white",
            "ticks": ""
           }
          },
          "title": {
           "x": 0.05
          },
          "xaxis": {
           "automargin": true,
           "gridcolor": "white",
           "linecolor": "white",
           "ticks": "",
           "title": {
            "standoff": 15
           },
           "zerolinecolor": "white",
           "zerolinewidth": 2
          },
          "yaxis": {
           "automargin": true,
           "gridcolor": "white",
           "linecolor": "white",
           "ticks": "",
           "title": {
            "standoff": 15
           },
           "zerolinecolor": "white",
           "zerolinewidth": 2
          }
         }
        },
        "title": {
         "text": "Interactive 3D Scatter Plot"
        }
       }
      },
      "image/png": "[encoded data removed]"
     },
     "metadata": {},
     "output_type": "display_data"
    }
   ],
   "source": [
    "import plotly.express as px\n",
    "import pandas as pd\n",
    "import numpy as np\n",
    "\n",
    "# Step 1: Generate sample 3D data\n",
    "np.random.seed(0)\n",
    "n_points = 100\n",
    "x = np.random.randn(n_points)\n",
    "y = np.random.randn(n_points)\n",
    "z = np.random.randn(n_points)\n",
    "# Add a categorical variable for color\n",
    "category = np.random.choice(['Group 1', 'Group 2'], n_points)\n",
    "\n",
    "# Create a DataFrame\n",
    "df = pd.DataFrame({'X-Coord': x, 'Y-Coord': y, 'Z-Coord': z, 'Category': category})\n",
    "\n",
    "# Step 2: Create the 3D scatter plot using Plotly Express\n",
    "# px.scatter_3d is used for this purpose\n",
    "# We map the DataFrame columns to the x, y, and z axes\n",
    "fig = px.scatter_3d(df,\n",
    "                    x='X-Coord',\n",
    "                    y='Y-Coord',\n",
    "                    z='Z-Coord',\n",
    "                    color='Category',  # Color points by the 'Category' column\n",
    "                    title=\"Interactive 3D Scatter Plot\")\n",
    "\n",
    "# Step 3: Show the plot\n",
    "# You can rotate, pan, and zoom this plot with your mouse\n",
    "fig.show()"
   ]
  },
  {
   "cell_type": "markdown",
   "id": "1cf37001-3685-458f-a727-b8be1b6f612e",
   "metadata": {},
   "source": [
    "---"
   ]
  },
  {
   "cell_type": "code",
   "execution_count": null,
   "id": "73febc08-ba85-423d-aa2c-628256b39840",
   "metadata": {},
   "outputs": [],
   "source": []
  }
 ],
 "metadata": {
  "kernelspec": {
   "display_name": "Python 3 (ipykernel)",
   "language": "python",
   "name": "python3"
  },
  "language_info": {
   "codemirror_mode": {
    "name": "ipython",
    "version": 3
   },
   "file_extension": ".py",
   "mimetype": "text/x-python",
   "name": "python",
   "nbconvert_exporter": "python",
   "pygments_lexer": "ipython3",
   "version": "3.12.4"
  }
 },
 "nbformat": 4,
 "nbformat_minor": 5
}
